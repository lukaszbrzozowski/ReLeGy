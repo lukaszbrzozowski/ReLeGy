{
 "cells": [
  {
   "cell_type": "code",
   "execution_count": 4,
   "metadata": {
    "ExecuteTime": {
     "end_time": "2020-08-01T13:53:56.122720Z",
     "start_time": "2020-08-01T13:53:39.485934Z"
    }
   },
   "outputs": [],
   "source": [
    "import networkx as nx\n",
    "import numpy as np\n",
    "import pandas as pd\n",
    "import matplotlib.pyplot as plt\n",
    "from networkx.linalg.graphmatrix import adjacency_matrix\n",
    "from networkx.linalg import laplacian_matrix\n",
    "from scipy.optimize import minimize\n"
   ]
  },
  {
   "cell_type": "code",
   "execution_count": 5,
   "metadata": {
    "ExecuteTime": {
     "end_time": "2020-08-01T13:53:56.135478Z",
     "start_time": "2020-08-01T13:53:56.129138Z"
    }
   },
   "outputs": [],
   "source": [
    "gr = nx.random_graphs.fast_gnp_random_graph(10, 0.5)"
   ]
  },
  {
   "cell_type": "code",
   "execution_count": 6,
   "metadata": {
    "ExecuteTime": {
     "end_time": "2020-08-01T13:53:56.145289Z",
     "start_time": "2020-08-01T13:53:56.139418Z"
    }
   },
   "outputs": [],
   "source": [
    "gr1 = nx.complete_graph(5)\n",
    "gr2 = nx.complete_graph(5)\n",
    "graph = nx.disjoint_union(gr1,gr2)\n",
    "graph.add_edge(0, 5)"
   ]
  },
  {
   "cell_type": "code",
   "execution_count": 8,
   "metadata": {
    "ExecuteTime": {
     "end_time": "2020-08-01T13:54:44.895045Z",
     "start_time": "2020-08-01T13:54:44.888513Z"
    }
   },
   "outputs": [],
   "source": [
    "def laplacian_eigenmaps(graph, A, m = 2):\n",
    "    \"\"\"\n",
    "    Find laplacian eigenmap encoding of graph nodes simulating similarity measure in R^m space\n",
    "    \n",
    "    Keyword arguments:\n",
    "    graph -- graph with n nodes describing node connections \n",
    "    A -- similarity function matrix - preferably sparse matrix\n",
    "    m -- output dimension\n",
    "    \"\"\"\n",
    "    n = len(graph.nodes)\n",
    "    D = laplacian_matrix(graph) + adjacency_matrix(graph)\n",
    "    L = D - A\n",
    "    print(type(adjacency_matrix(graph)).__name__)\n",
    "    Y0 = np.random.rand(n,m).reshape(-1)\n",
    "    I = np.eye(m)\n",
    "    flat = lambda f : lambda Y_flat : f(Y_flat.reshape(n,m)).reshape(-1)\n",
    "    func = lambda Y: np.trace(Y.T @ L @ Y)\n",
    "    der = lambda Y: (2 * L @ Y).reshape(-1)\n",
    "\n",
    "    eq_cons = {\"type\": \"eq\",\n",
    "              \"fun\": flat(lambda Y: np.sum((Y.T @ D @ Y - I)**2)),\n",
    "              \"jac\": flat(lambda Y: 2 * D @ Y)}\n",
    "\n",
    "    res = minimize(flat(func), \n",
    "                   Y0, \n",
    "                   method='SLSQP', \n",
    "                   jac=flat(der), \n",
    "                   constraints = [eq_cons], \n",
    "                   options={'ftol': 1e-9, 'disp': True, 'maxiter': 200})\n",
    "    print(type(res).__name__)\n",
    "    return res"
   ]
  },
  {
   "cell_type": "code",
   "execution_count": null,
   "metadata": {
    "ExecuteTime": {
     "end_time": "2020-07-20T13:15:48.636554Z",
     "start_time": "2020-07-20T13:15:48.157330Z"
    },
    "scrolled": false
   },
   "outputs": [],
   "source": [
    "plt.figure(figsize=(16,10))\n",
    "nx.draw(graph, with_labels = True, node_size = 1000, font_size = 24, font_color = \"white\")\n",
    "labeldict = {node: str(node) for node in gr.nodes}"
   ]
  },
  {
   "cell_type": "code",
   "execution_count": null,
   "outputs": [],
   "source": [
    "type(res.x).__name__"
   ],
   "metadata": {
    "collapsed": false,
    "pycharm": {
     "name": "#%%\n"
    }
   }
  },
  {
   "cell_type": "code",
   "execution_count": 11,
   "metadata": {
    "ExecuteTime": {
     "end_time": "2020-08-01T13:55:14.513374Z",
     "start_time": "2020-08-01T13:55:14.507650Z"
    }
   },
   "outputs": [
    {
     "data": {
      "text/plain": [
       "'ndarray'"
      ]
     },
     "execution_count": 11,
     "metadata": {},
     "output_type": "execute_result"
    }
   ],
   "source": [
    "res = laplacian_eigenmaps(graph, adjacency_matrix(graph), m = 2)\n",
    "n, m = 10, 2\n",
    "plt.figure(figsize = (16,10))\n",
    "plt.scatter(res.x.reshape(n,m)[:,0], res.x.reshape(n,m)[:,1],s=1000)\n",
    "for x, y, t in zip(list(res.x.reshape(n,m)[:,0]), list(res.x.reshape(n,m)[:,1]), list(graph.nodes)):\n",
    "    plt.text(x, y, t, horizontalalignment='center', verticalalignment='center', \n",
    "             fontdict = {\"size\": 24, \"color\": \"white\"})"
   ]
  },
  {
   "cell_type": "code",
   "execution_count": 9,
   "metadata": {
    "ExecuteTime": {
     "end_time": "2020-08-01T13:54:49.002435Z",
     "start_time": "2020-08-01T13:54:48.205033Z"
    },
    "scrolled": false
   },
   "outputs": [
    {
     "name": "stdout",
     "output_type": "stream",
     "text": [
      "csr_matrix\n",
      "Iteration limit reached    (Exit mode 9)\n",
      "            Current function value: [0.29860188]\n",
      "            Iterations: 200\n",
      "            Function evaluations: 1906\n",
      "            Gradient evaluations: 200\n",
      "OptimizeResult\n"
     ]
    },
    {
     "data": {
      "image/png": "[encoded data removed]",
      "text/plain": [
       "<Figure size 1152x720 with 1 Axes>"
      ]
     },
     "metadata": {
      "needs_background": "light"
     },
     "output_type": "display_data"
    }
   ],
   "source": [
    "res = laplacian_eigenmaps(graph, adjacency_matrix(graph), m = 2)\n",
    "n, m = 10, 2\n",
    "plt.figure(figsize = (16,10))\n",
    "plt.scatter(res.x.reshape(n,m)[:,0], res.x.reshape(n,m)[:,1],s=1000)\n",
    "for x, y, t in zip(list(res.x.reshape(n,m)[:,0]), list(res.x.reshape(n,m)[:,1]), list(graph.nodes)):\n",
    "    plt.text(x, y, t, horizontalalignment='center', verticalalignment='center', \n",
    "             fontdict = {\"size\": 24, \"color\": \"white\"})"
   ]
  },
  {
   "cell_type": "code",
   "execution_count": null,
   "metadata": {
    "ExecuteTime": {
     "end_time": "2020-07-20T12:46:12.437483Z",
     "start_time": "2020-07-20T12:46:12.433092Z"
    }
   },
   "outputs": [],
   "source": [
    "a = list(graph.edges)\n",
    "np.random.shuffle(a)"
   ]
  },
  {
   "cell_type": "code",
   "execution_count": null,
   "metadata": {
    "ExecuteTime": {
     "end_time": "2020-07-20T12:50:22.464486Z",
     "start_time": "2020-07-20T12:50:22.461046Z"
    }
   },
   "outputs": [],
   "source": [
    "n, m = 10,2\n",
    "Z = np.zero(n,m).reshape(-1)"
   ]
  },
  {
   "cell_type": "code",
   "execution_count": null,
   "metadata": {
    "ExecuteTime": {
     "end_time": "2020-07-20T13:13:49.372332Z",
     "start_time": "2020-07-20T13:13:49.365310Z"
    }
   },
   "outputs": [],
   "source": [
    "np.zeros((n,m))"
   ]
  },
  {
   "cell_type": "code",
   "execution_count": null,
   "metadata": {
    "ExecuteTime": {
     "end_time": "2020-07-20T14:15:32.286884Z",
     "start_time": "2020-07-20T14:15:32.272568Z"
    }
   },
   "outputs": [],
   "source": [
    "def graph_factorization(graph, A, m=5, eps=1e-7, lmbd=0):\n",
    "    \"\"\"\n",
    "    Find graph factorization encoding of graph nodes simulating similarity measure in R^m space\n",
    "    \n",
    "    Keyword arguments:\n",
    "    graph -- graph with n nodes describing node connections \n",
    "    A -- similarity function matrix - preferably sparse matrix\n",
    "    m -- output dimension\n",
    "    \"\"\"\n",
    "    n = len(graph.nodes)\n",
    "    Z = np.random.rand(n,m)\n",
    "    t = 1\n",
    "    while True:\n",
    "        Zprev = np.copy(Z)\n",
    "        edges = list(graph.edges)\n",
    "        np.random.shuffle(edges)\n",
    "        for i, j in edges:\n",
    "            eta = 1/np.sqrt(t)\n",
    "            t+=1\n",
    "            Z[i,] = Z[i,] + eta*((A[i,j]-np.dot(Z[i,],Z[j,]))*Z[j,] - lmbd*Z[i,])\n",
    "            t+=1\n",
    "            Z[j,] = Z[j,] + eta*((A[i,j]-np.dot(Z[i,],Z[j,]))*Z[i,] - lmbd*Z[j,])\n",
    "        error = np.sum((Z - Zprev)**2)\n",
    "        print(error, end = \"\\r\")\n",
    "        if error < eps:\n",
    "            break\n",
    "    return Z"
   ]
  },
  {
   "cell_type": "code",
   "execution_count": null,
   "metadata": {
    "ExecuteTime": {
     "end_time": "2020-07-20T14:15:37.973455Z",
     "start_time": "2020-07-20T14:15:37.964164Z"
    }
   },
   "outputs": [],
   "source": [
    "Z @ Z.T"
   ]
  },
  {
   "cell_type": "code",
   "execution_count": null,
   "metadata": {
    "ExecuteTime": {
     "end_time": "2020-07-20T14:17:40.814323Z",
     "start_time": "2020-07-20T14:17:40.265088Z"
    }
   },
   "outputs": [],
   "source": [
    "Z = graph_factorization(graph, adjacency_matrix(graph))"
   ]
  },
  {
   "cell_type": "code",
   "execution_count": null,
   "metadata": {
    "ExecuteTime": {
     "end_time": "2020-07-20T14:17:42.798074Z",
     "start_time": "2020-07-20T14:17:42.787353Z"
    }
   },
   "outputs": [],
   "source": [
    "adjacency_matrix(graph).todense()"
   ]
  },
  {
   "cell_type": "code",
   "execution_count": null,
   "metadata": {
    "ExecuteTime": {
     "end_time": "2020-07-20T15:46:05.117914Z",
     "start_time": "2020-07-20T15:46:04.110862Z"
    }
   },
   "outputs": [],
   "source": [
    "Z = graph_factorization(graph, adjacency_matrix(graph))\n",
    "res = Z\n",
    "n, m = 10, 2\n",
    "plt.figure(figsize = (16,10))\n",
    "plt.scatter(Z[:,0], Z[:,1],s=1000)\n",
    "for x, y, t in zip(list(Z[:,0]), list(Z[:,1]), list(graph.nodes)):\n",
    "    plt.text(x, y, t, horizontalalignment='center', verticalalignment='center', \n",
    "             fontdict = {\"size\": 24, \"color\": \"white\"})"
   ]
  },
  {
   "cell_type": "code",
   "execution_count": null,
   "metadata": {
    "ExecuteTime": {
     "end_time": "2020-07-20T14:22:31.940116Z",
     "start_time": "2020-07-20T14:22:31.932249Z"
    }
   },
   "outputs": [],
   "source": [
    "np.round(Z @ Z.T, decimals = 1)"
   ]
  },
  {
   "cell_type": "code",
   "execution_count": null,
   "metadata": {},
   "outputs": [],
   "source": []
  }
 ],
 "metadata": {
  "kernelspec": {
   "display_name": "Python 3",
   "language": "python",
   "name": "python3"
  },
  "language_info": {
   "codemirror_mode": {
    "name": "ipython",
    "version": 3
   },
   "file_extension": ".py",
   "mimetype": "text/x-python",
   "name": "python",
   "nbconvert_exporter": "python",
   "pygments_lexer": "ipython3",
   "version": "3.8.5"
  }
 },
 "nbformat": 4,
 "nbformat_minor": 4
}