{
 "cells": [
  {
   "cell_type": "code",
   "execution_count": 1,
   "metadata": {},
   "outputs": [],
   "source": [
    "import numpy as np\n",
    "import pandas as pd\n",
    "import networkx as nx\n",
    "import copy\n",
    "import time\n",
    "import matplotlib.pyplot as plt\n",
    "import seaborn as sns"
   ]
  },
  {
   "cell_type": "code",
   "execution_count": 113,
   "metadata": {},
   "outputs": [],
   "source": [
    "G = nx.random_graphs.erdos_renyi_graph(500, 0.6)"
   ]
  },
  {
   "cell_type": "code",
   "execution_count": 82,
   "metadata": {},
   "outputs": [],
   "source": [
    "def grarep(G, k, d, lmbd):\n",
    "    S = nx.to_numpy_matrix(G)\n",
    "    N = len(G.nodes)\n",
    "    dictM = {}\n",
    "    beta = lmbd/N\n",
    "    for i in range(1, k+1):\n",
    "        if i == 1:\n",
    "            D = np.diag(np.sum(S, axis = 0).A1)\n",
    "            D1 = np.linalg.inv(D)\n",
    "            A = D1 @ S\n",
    "            curA = copy.deepcopy(A)\n",
    "        else:\n",
    "            curA = curA @ A\n",
    "        gamma = np.repeat(np.sum(curA, axis = 0), [A.shape[0]], axis = 0)\n",
    "        Y = np.log(np.multiply(curA, 1/gamma))-np.log(beta)\n",
    "        X = Y\n",
    "        X[X < 0] = 0\n",
    "        U, D, VT = np.linalg.svd(X)\n",
    "        Ud = U[:, :d]\n",
    "        Dd = np.diag(D)[:d, :d]\n",
    "        W = Ud @ np.sqrt(Dd)\n",
    "        dictM[\"W\"+ str(i)] = W\n",
    "    return dictM\n",
    "    "
   ]
  },
  {
   "cell_type": "code",
   "execution_count": 93,
   "metadata": {},
   "outputs": [
    {
     "name": "stderr",
     "output_type": "stream",
     "text": [
      "C:\\ProgramData\\Anaconda3\\lib\\site-packages\\ipykernel_launcher.py:15: RuntimeWarning: divide by zero encountered in log\n",
      "  from ipykernel import kernelapp as app\n"
     ]
    }
   ],
   "source": [
    "ret = grarep(G, 3, 4, 4)"
   ]
  },
  {
   "cell_type": "code",
   "execution_count": 115,
   "metadata": {},
   "outputs": [],
   "source": [
    "def HOPE(G, d, proximity, *argv):\n",
    "    A = nx.to_numpy_matrix(G)\n",
    "    N = len(G.nodes)\n",
    "    assert(d <= n)\n",
    "    if proximity == \"Katz\":\n",
    "        par = argv[0]\n",
    "        Mg = np.identity(N) - par*A\n",
    "        Ml = par*A\n",
    "    elif proximity == \"RPR\":\n",
    "        par = argv[0]\n",
    "        D = np.diag(np.sum(A, axis = 0).A1)\n",
    "        D1 = np.linalg.inv(D)\n",
    "        P = D1 @ A\n",
    "        Mg = np.identity(N) - par*P\n",
    "        Ml = (1-par)*np.identity(N)\n",
    "    elif proximity == \"CN\":\n",
    "        Mg = np.identity(N)\n",
    "        Ml = A @ A\n",
    "    elif proximity == \"AA\":\n",
    "        D = np.diag([1/(np.sum(A[:, i])+np.sum(A[i, :])) for i in range(N)])\n",
    "        Mg = np.identity(N)\n",
    "        Ml = A @ D @ A\n",
    "    else:\n",
    "        print(\"Unknown proximity function. Using CN\")\n",
    "        Mg = np.identity(N)\n",
    "        Ml = A @ A\n",
    "    #Partial GSVD/JDGSVD may be implemented here\n",
    "    S = np.linalg.inv(Mg) @ Ml\n",
    "    U, D, VT = np.linalg.svd(S)\n",
    "    Ds = np.sqrt(np.diag(D)[:d, :d])\n",
    "    Us = U[:, :d] @ Ds\n",
    "    Ut = VT.T[:, :d] @ Ds\n",
    "    return {\"Us\": Us, \"Ut\" : Ut}"
   ]
  },
  {
   "cell_type": "code",
   "execution_count": 117,
   "metadata": {},
   "outputs": [],
   "source": [
    "uu = HOPE(G, 3, \"Katz\", 0.3)"
   ]
  }
 ],
 "metadata": {
  "kernelspec": {
   "display_name": "Python 3",
   "language": "python",
   "name": "python3"
  },
  "language_info": {
   "codemirror_mode": {
    "name": "ipython",
    "version": 3
   },
   "file_extension": ".py",
   "mimetype": "text/x-python",
   "name": "python",
   "nbconvert_exporter": "python",
   "pygments_lexer": "ipython3",
   "version": "3.7.3"
  }
 },
 "nbformat": 4,
 "nbformat_minor": 2
}
