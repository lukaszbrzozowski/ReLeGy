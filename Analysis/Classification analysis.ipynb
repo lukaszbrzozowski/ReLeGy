{
 "cells": [
  {
   "cell_type": "markdown",
   "metadata": {},
   "source": [
    "# Comparative analysis description"
   ]
  },
  {
   "cell_type": "markdown",
   "metadata": {},
   "source": [
    "# Input data description"
   ]
  },
  {
   "cell_type": "code",
   "execution_count": 1,
   "metadata": {},
   "outputs": [],
   "source": [
    "import networkx as nx\n",
    "import numpy as np\n",
    "import matplotlib.pyplot as plt\n",
    "import os\n",
    "import sys\n",
    "import inspect\n",
    "from IPython.display import clear_output\n",
    "os.chdir(\"..\")\n",
    "import relegy.embeddings as rle\n",
    "import relegy.metrics as rlm\n",
    "import relegy.graphs as rlr\n",
    "os.chdir(\"Analysis\")"
   ]
  },
  {
   "cell_type": "code",
   "execution_count": 2,
   "metadata": {},
   "outputs": [],
   "source": [
    "def get_embedding_methods_iterable():\n",
    "    return filter(lambda x: x[0][:2] != \"__\", inspect.getmembers(sys.modules['relegy.embeddings']))"
   ]
  },
  {
   "cell_type": "code",
   "execution_count": 45,
   "metadata": {},
   "outputs": [],
   "source": [
    "node_labels = np.genfromtxt(\"C:\\\\Users\\\\Lukasz\\\\Desktop\\\\temp\\\\BA-1_10_60-L5.node_labels\")\n",
    "edges = np.genfromtxt(\"C:\\\\Users\\\\Lukasz\\\\Desktop\\\\temp\\\\BA-1_10_60-L5.edges\")\n",
    "nodes = node_labels[:, 0].astype(int)\n",
    "labels1 = node_labels[:, 1].astype(int)"
   ]
  },
  {
   "cell_type": "code",
   "execution_count": 46,
   "metadata": {},
   "outputs": [],
   "source": [
    "G1 = nx.Graph()\n",
    "G1.add_nodes_from(nodes)\n",
    "G1.add_edges_from(edges)\n",
    "G1 = nx.convert_node_labels_to_integers(G, first_label=0)"
   ]
  },
  {
   "cell_type": "code",
   "execution_count": 47,
   "metadata": {},
   "outputs": [],
   "source": [
    "G2, labels2_ = rlr.get_karate_graph()\n",
    "labels2_ = np.array(labels2_)[:, 1]\n",
    "labels2 = (labels2_ == 'Mr. Hi').astype(int)"
   ]
  },
  {
   "cell_type": "code",
   "execution_count": 50,
   "metadata": {},
   "outputs": [],
   "source": [
    "def get_results_from_all_viable_methods(d, graphs, graph_names=None):\n",
    "    results = [None] * len(graphs)\n",
    "    for i, G in enumerate(graphs):\n",
    "        results_dictionary = {}\n",
    "        for name, class_handle in get_embedding_methods_iterable():\n",
    "            info = \"Currently processing \" + str(name) + \", d: \" + str(d)\n",
    "            if graph_names is not None:\n",
    "                info += \", graph: \" + graph_names[i]\n",
    "            if not (name == \"GCN\" or name == \"GNN\" or name == \"Struc2Vec\"):\n",
    "                if name in [\"GraphWave\", \"HOPE\", \"LINE\"]:\n",
    "                    current_d = d // 2\n",
    "                else:\n",
    "                    current_d = d\n",
    "                print(info)\n",
    "                if not (name == \"HARP\"):\n",
    "                    results_dictionary[name] = class_handle.fast_embed(G, d=current_d)\n",
    "                    clear_output()\n",
    "                else:\n",
    "                    temp_name = \"HARP_Deepwalk\"\n",
    "                    results_dictionary[temp_name] = class_handle.fast_embed(G, d=current_d)\n",
    "                    temp_name = \"HARP_Node2Vec\"\n",
    "                    results_dictionary[temp_name] = class_handle.fast_embed(G, d=current_d, method = \"Node2Vec\")\n",
    "                    clear_output()\n",
    "        results[i] = results_dictionary\n",
    "    return results"
   ]
  },
  {
   "cell_type": "code",
   "execution_count": null,
   "metadata": {},
   "outputs": [
    {
     "name": "stdout",
     "output_type": "stream",
     "text": [
      "Currently processing LINE, d: 2, graph: G1\n",
      "Epoch: 19, 1st-order objective: 54783.26, 1st-order Frob: 16.16, 2nd-order objective: 442566.54, 2nd-order Frob:16.37\r"
     ]
    }
   ],
   "source": [
    "results_d2 = get_results_from_all_viable_methods(d=2, graphs=[G1, G2], graph_names=[\"G1\", \"G2\"])"
   ]
  }
 ],
 "metadata": {
  "kernelspec": {
   "display_name": "Python 3",
   "language": "python",
   "name": "python3"
  },
  "language_info": {
   "codemirror_mode": {
    "name": "ipython",
    "version": 3
   },
   "file_extension": ".py",
   "mimetype": "text/x-python",
   "name": "python",
   "nbconvert_exporter": "python",
   "pygments_lexer": "ipython3",
   "version": "3.8.3"
  }
 },
 "nbformat": 4,
 "nbformat_minor": 4
}
