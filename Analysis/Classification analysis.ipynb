{
 "cells": [
  {
   "cell_type": "markdown",
   "metadata": {},
   "source": [
    "# Comparative analysis description"
   ]
  },
  {
   "cell_type": "markdown",
   "metadata": {},
   "source": [
    "# Input data description"
   ]
  },
  {
   "cell_type": "code",
   "execution_count": 46,
   "metadata": {},
   "outputs": [],
   "source": [
    "import networkx as nx\n",
    "import numpy as np\n",
    "import matplotlib.pyplot as plt\n",
    "import os\n",
    "import sys\n",
    "import inspect\n",
    "from IPython.display import clear_output\n",
    "import relegy.embeddings as rle\n",
    "import relegy.metrics as rlm\n",
    "import relegy.graphs as rlr\n",
    "import pickle\n",
    "from sklearn.model_selection import train_test_split\n",
    "from sklearn.linear_model import LogisticRegression"
   ]
  },
  {
   "cell_type": "code",
   "execution_count": 35,
   "metadata": {},
   "outputs": [],
   "source": [
    "def get_embedding_methods_iterable():\n",
    "    return filter(lambda x: x[0][:2] != \"__\", inspect.getmembers(sys.modules['relegy.embeddings']))"
   ]
  },
  {
   "cell_type": "code",
   "execution_count": 3,
   "metadata": {},
   "outputs": [],
   "source": [
    "node_labels = np.genfromtxt(\"..\\\\data\\\\internet-industry-partnerships\\\\internet-industry-partnerships.node_labels\")\n",
    "edges = np.genfromtxt(\"..\\\\data\\\\internet-industry-partnerships\\\\internet-industry-partnerships.edges\", delimiter=\",\").astype(int)\n",
    "labels1 = node_labels.astype(int)\n",
    "\n"
   ]
  },
  {
   "cell_type": "code",
   "execution_count": 4,
   "metadata": {},
   "outputs": [],
   "source": [
    "G1 = nx.Graph()\n",
    "G1.add_edges_from(edges)\n",
    "G1 = nx.convert_node_labels_to_integers(G1, first_label=0)"
   ]
  },
  {
   "cell_type": "code",
   "execution_count": 5,
   "metadata": {},
   "outputs": [],
   "source": [
    "G2, labels2_ = rlr.get_karate_graph()\n",
    "labels2_ = np.array(labels2_)[:, 1]\n",
    "labels2 = (labels2_ == 'Mr. Hi').astype(int)"
   ]
  },
  {
   "cell_type": "code",
   "execution_count": 6,
   "metadata": {
    "pycharm": {
     "name": "#%%\n"
    }
   },
   "outputs": [],
   "source": [
    "G3, labels3 = rlr.generate_clusters_graph(300, 3, 0.05, 0.5)"
   ]
  },
  {
   "cell_type": "code",
   "execution_count": 13,
   "metadata": {},
   "outputs": [],
   "source": [
    "labels = [labels1, labels2, labels3]"
   ]
  },
  {
   "cell_type": "code",
   "execution_count": 34,
   "metadata": {},
   "outputs": [],
   "source": [
    "def get_results_from_all_viable_methods(d, graphs, graph_names=None):\n",
    "    results = [None] * len(graphs)\n",
    "    for i, G in enumerate(graphs):\n",
    "        results_dictionary = {}\n",
    "        for name, class_handle in get_embedding_methods_iterable():\n",
    "            info = \"Currently processing \" + str(name) + \", d: \" + str(d)\n",
    "            if graph_names is not None:\n",
    "                info += \", graph: \" + graph_names[i]\n",
    "            if not (name == \"GCN\" or name == \"GNN\"):\n",
    "                if name in [\"GraphWave\", \"HOPE\", \"LINE\"]:\n",
    "                    current_d = d // 2\n",
    "                else:\n",
    "                    current_d = d\n",
    "                print(info)\n",
    "                if not (name == \"HARP\"):\n",
    "                    results_dictionary[name] = class_handle.fast_embed(G, d=current_d)\n",
    "                    clear_output()\n",
    "                else:\n",
    "                    temp_name = \"HARP_Deepwalk\"\n",
    "                    results_dictionary[temp_name] = class_handle.fast_embed(G, d=current_d)\n",
    "                    temp_name = \"HARP_Node2Vec\"\n",
    "                    results_dictionary[temp_name] = class_handle.fast_embed(G, d=current_d, method = \"Node2Vec\")\n",
    "                    clear_output()\n",
    "        results[i] = results_dictionary\n",
    "    return results"
   ]
  },
  {
   "cell_type": "code",
   "execution_count": 12,
   "metadata": {},
   "outputs": [],
   "source": [
    "results_d2 = get_results_from_all_viable_methods(d=2, graphs=[G1, G2, G3], graph_names=[\"G1\", \"G2\", \"G3\"])"
   ]
  },
  {
   "cell_type": "code",
   "execution_count": 36,
   "metadata": {
    "scrolled": true
   },
   "outputs": [],
   "source": [
    "results_d6 = get_results_from_all_viable_methods(d=6, graphs=[G1, G2, G3], graph_names=[\"G1\", \"G2\", \"G3\"])"
   ]
  },
  {
   "cell_type": "code",
   "execution_count": 51,
   "metadata": {},
   "outputs": [
    {
     "ename": "IndexError",
     "evalue": "list index out of range",
     "output_type": "error",
     "traceback": [
      "\u001b[1;31m---------------------------------------------------------------------------\u001b[0m",
      "\u001b[1;31mIndexError\u001b[0m                                Traceback (most recent call last)",
      "\u001b[1;32m<ipython-input-51-d231e34e5f5a>\u001b[0m in \u001b[0;36m<module>\u001b[1;34m\u001b[0m\n\u001b[0;32m      1\u001b[0m \u001b[1;32mwith\u001b[0m \u001b[0mopen\u001b[0m\u001b[1;33m(\u001b[0m\u001b[1;34m\"G4_results_d6.p\"\u001b[0m\u001b[1;33m,\u001b[0m \u001b[1;34m\"wb\"\u001b[0m\u001b[1;33m)\u001b[0m \u001b[1;32mas\u001b[0m \u001b[0mf\u001b[0m\u001b[1;33m:\u001b[0m\u001b[1;33m\u001b[0m\u001b[1;33m\u001b[0m\u001b[0m\n\u001b[1;32m----> 2\u001b[1;33m     \u001b[0mpickle\u001b[0m\u001b[1;33m.\u001b[0m\u001b[0mdump\u001b[0m\u001b[1;33m(\u001b[0m\u001b[0mresults_d6\u001b[0m\u001b[1;33m[\u001b[0m\u001b[1;36m3\u001b[0m\u001b[1;33m]\u001b[0m\u001b[1;33m,\u001b[0m \u001b[0mf\u001b[0m\u001b[1;33m)\u001b[0m\u001b[1;33m\u001b[0m\u001b[1;33m\u001b[0m\u001b[0m\n\u001b[0m",
      "\u001b[1;31mIndexError\u001b[0m: list index out of range"
     ]
    }
   ],
   "source": [
    "with open(\"G4_results_d6.p\", \"wb\") as f:\n",
    "    pickle.dump(results_d6[3], f)"
   ]
  },
  {
   "cell_type": "code",
   "execution_count": 53,
   "metadata": {
    "scrolled": true
   },
   "outputs": [],
   "source": [
    "embeddings_d2 = {}\n",
    "for i in range(1, 4):\n",
    "    with open(\"G\"+str(i)+\"_results.p\", mode=\"rb\") as f:\n",
    "        embeddings_d2[\"G\"+str(i)] = pickle.load(f)\n",
    "embeddings_d6 = {}\n",
    "for i in range(1, 4):\n",
    "    with open(\"G\"+str(i)+\"_results_d6.p\", mode=\"rb\") as f:\n",
    "        embeddings_d6[\"G\"+str(i)] = pickle.load(f)"
   ]
  },
  {
   "cell_type": "code",
   "execution_count": 67,
   "metadata": {},
   "outputs": [],
   "source": [
    "reg_results_train_d2 = {\"G1\": {}, \"G2\":{}, \"G3\":{}}\n",
    "reg_results_test_d2 = {\"G1\": {}, \"G2\":{}, \"G3\":{}}\n",
    "for j in range(1, 4):\n",
    "    names = embeddings_d2['G'+str(j)].keys()\n",
    "    labels_cur = labels[j-1]\n",
    "    reg_results = {}\n",
    "    for i, name in enumerate(names):\n",
    "        Z = embeddings_d2['G'+str(j)][name]\n",
    "        X_train, X_test, y_train, y_test = train_test_split(Z, labels_cur, random_state=0)\n",
    "        logreg = LogisticRegression(max_iter=400)\n",
    "        logreg.fit(X_train, y_train)\n",
    "        reg_results_train_d2[\"G\"+str(j)][name] = logreg.score(X_train, y_train)\n",
    "        reg_results_test_d2[\"G\"+str(j)][name] = logreg.score(X_test, y_test)"
   ]
  },
  {
   "cell_type": "code",
   "execution_count": 72,
   "metadata": {},
   "outputs": [],
   "source": [
    "reg_results_train_d6 = {\"G1\": {}, \"G2\":{}, \"G3\":{}}\n",
    "reg_results_test_d6 = {\"G1\": {}, \"G2\":{}, \"G3\":{}}\n",
    "for j in range(1, 4):\n",
    "    names = embeddings_d6['G'+str(j)].keys()\n",
    "    labels_cur = labels[j-1]\n",
    "    reg_results = {}\n",
    "    for i, name in enumerate(names):\n",
    "        Z = embeddings_d6['G'+str(j)][name]\n",
    "        X_train, X_test, y_train, y_test = train_test_split(Z, labels_cur, random_state=0)\n",
    "        logreg = LogisticRegression(max_iter=800)\n",
    "        logreg.fit(X_train, y_train)\n",
    "        reg_results_train_d6[\"G\"+str(j)][name] = logreg.score(X_train, y_train)\n",
    "        reg_results_test_d6[\"G\"+str(j)][name] = logreg.score(X_test, y_test)"
   ]
  },
  {
   "cell_type": "code",
   "execution_count": 57,
   "metadata": {},
   "outputs": [],
   "source": [
    "G1_res_d2 = np.array(list(reg_results_test_d2[\"G1\"].items()))\n",
    "G2_res_d2 = np.array(list(reg_results_test_d2[\"G2\"].items()))\n",
    "G3_res_d2 = np.array(list(reg_results_test_d2[\"G3\"].items()))"
   ]
  },
  {
   "cell_type": "code",
   "execution_count": 74,
   "metadata": {},
   "outputs": [],
   "source": [
    "G1_res_d6 = np.array(list(reg_results_test_d6[\"G1\"].items()))\n",
    "G2_res_d6 = np.array(list(reg_results_test_d6[\"G2\"].items()))\n",
    "G3_res_d6 = np.array(list(reg_results_test_d6[\"G3\"].items()))"
   ]
  },
  {
   "cell_type": "code",
   "execution_count": 45,
   "metadata": {},
   "outputs": [
    {
     "data": {
      "text/plain": [
       "<matplotlib.collections.PathCollection at 0x1d408f10d90>"
      ]
     },
     "execution_count": 45,
     "metadata": {},
     "output_type": "execute_result"
    },
    {
     "data": {
      "image/png": "[encoded data removed]",
      "text/plain": [
       "<Figure size 432x288 with 1 Axes>"
      ]
     },
     "metadata": {
      "needs_background": "light"
     },
     "output_type": "display_data"
    }
   ],
   "source": [
    "plt.scatter(G1_res_d2[:, 0], G1_res_d2[:, 1])"
   ]
  },
  {
   "cell_type": "code",
   "execution_count": 89,
   "metadata": {},
   "outputs": [
    {
     "data": {
      "text/plain": [
       "array([0.6  , 0.618, 0.6  , 0.6  , 0.6  , 0.6  , 0.6  , 0.6  , 0.582,\n",
       "       0.6  , 0.6  , 0.6  , 0.6  ], dtype=float32)"
      ]
     },
     "execution_count": 89,
     "metadata": {},
     "output_type": "execute_result"
    }
   ],
   "source": [
    "np.round(G1_res_d2[:, 1].astype(np.float32), 3)"
   ]
  },
  {
   "cell_type": "code",
   "execution_count": 105,
   "metadata": {},
   "outputs": [
    {
     "data": {
      "image/png": "[encoded data removed]",
      "text/plain": [
       "<Figure size 864x576 with 6 Axes>"
      ]
     },
     "metadata": {
      "needs_background": "light"
     },
     "output_type": "display_data"
    }
   ],
   "source": [
    "from matplotlib.pylab import rcParams\n",
    "rcParams[\"figure.figsize\"] = 12, 8\n",
    "fig, axs = plt.subplots(2, 3)\n",
    "plt.setp(axs[0, 0].xaxis.get_majorticklabels(), rotation=45)\n",
    "plt.setp(axs[0, 1].xaxis.get_majorticklabels(), rotation=45)\n",
    "plt.setp(axs[0, 2].xaxis.get_majorticklabels(), rotation=45)\n",
    "plt.setp(axs[1, 0].xaxis.get_majorticklabels(), rotation=45)\n",
    "plt.setp(axs[1, 1].xaxis.get_majorticklabels(), rotation=45)\n",
    "plt.setp(axs[1, 2].xaxis.get_majorticklabels(), rotation=45)\n",
    "axs[0, 0].scatter(G1_res_d2[:, 0], np.round(G1_res_d2[:, 1].astype(np.float32), 3))\n",
    "axs[0, 1].scatter(G2_res_d2[:, 0], np.round(G2_res_d2[:, 1].astype(np.float32), 3))\n",
    "axs[0, 2].scatter(G3_res_d2[:, 0], np.round(G3_res_d2[:, 1].astype(np.float32), 3))\n",
    "axs[1, 0].scatter(G1_res_d6[:, 0], np.round(G1_res_d6[:, 1].astype(np.float32), 3))\n",
    "axs[1, 1].scatter(G2_res_d6[:, 0], np.round(G2_res_d6[:, 1].astype(np.float32), 3))\n",
    "axs[1, 2].scatter(G3_res_d6[:, 0], np.round(G3_res_d6[:, 1].astype(np.float32), 3))\n",
    "plt.show()"
   ]
  }
 ],
 "metadata": {
  "kernelspec": {
   "display_name": "Python 3",
   "language": "python",
   "name": "python3"
  },
  "language_info": {
   "codemirror_mode": {
    "name": "ipython",
    "version": 3
   },
   "file_extension": ".py",
   "mimetype": "text/x-python",
   "name": "python",
   "nbconvert_exporter": "python",
   "pygments_lexer": "ipython3",
   "version": "3.8.3"
  }
 },
 "nbformat": 4,
 "nbformat_minor": 4
}
