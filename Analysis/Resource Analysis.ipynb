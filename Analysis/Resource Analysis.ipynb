{
 "cells": [
  {
   "cell_type": "code",
   "execution_count": 3,
   "metadata": {
    "ExecuteTime": {
     "end_time": "2020-12-29T20:02:17.942331Z",
     "start_time": "2020-12-29T20:02:17.934746Z"
    }
   },
   "outputs": [],
   "source": [
    "import os"
   ]
  },
  {
   "cell_type": "code",
   "execution_count": 4,
   "metadata": {
    "ExecuteTime": {
     "end_time": "2020-12-29T22:36:05.018486Z",
     "start_time": "2020-12-29T22:36:05.013204Z"
    }
   },
   "outputs": [],
   "source": [
    "import networkx as nx\n",
    "import numpy as np\n",
    "import relegy.embeddings as rle\n",
    "import relegy.graphs as rlg\n",
    "import matplotlib.pyplot as plt\n",
    "from matplotlib.pylab import rcParams\n",
    "import tensorflow as tf\n",
    "from tqdm import tqdm\n",
    "import warnings\n",
    "import pickle\n",
    "# physical_devices = tf.config.list_physical_devices('GPU')\n",
    "# tf.config.experimental.set_memory_growth(physical_devices[0], True)"
   ]
  },
  {
   "cell_type": "code",
   "execution_count": 5,
   "metadata": {
    "ExecuteTime": {
     "end_time": "2020-12-29T20:29:17.247161Z",
     "start_time": "2020-12-29T20:29:12.127211Z"
    }
   },
   "outputs": [],
   "source": [
    "# profiler\n",
    "# profile.py\n",
    "import time\n",
    "import os\n",
    "import psutil\n",
    "import inspect\n",
    "import gc\n",
    "\n",
    "\n",
    "def elapsed_since(start):\n",
    "    #return time.strftime(\"%H:%M:%S\", time.gmtime(time.time() - start))\n",
    "    elapsed = time.time() - start\n",
    "    if elapsed < 1:\n",
    "        return str(round(elapsed*1000,2)) + \"ms\", elapsed\n",
    "    if elapsed < 60:\n",
    "        return str(round(elapsed, 2)) + \"s\", elapsed\n",
    "    if elapsed < 3600:\n",
    "        return str(round(elapsed/60, 2)) + \"min\", elapsed\n",
    "    else:\n",
    "        return str(round(elapsed / 3600, 2)) + \"hrs\", elapsed\n",
    "\n",
    "\n",
    "def get_process_memory():\n",
    "    process = psutil.Process(os.getpid())\n",
    "    mi = process.memory_info()\n",
    "    return mi.rss, mi.vms\n",
    "\n",
    "\n",
    "def format_bytes(bytes):\n",
    "    if abs(bytes) < 1000:\n",
    "        return str(bytes)+\"B\"\n",
    "    elif abs(bytes) < 1e6:\n",
    "        return str(round(bytes/1e3,2)) + \"kB\"\n",
    "    elif abs(bytes) < 1e9:\n",
    "        return str(round(bytes / 1e6, 2)) + \"MB\"\n",
    "    else:\n",
    "        return str(round(bytes / 1e9, 2)) + \"GB\"\n",
    "\n",
    "\n",
    "def profile(func, *args, **kwargs):\n",
    "    global profiling_results\n",
    "    gc.collect()\n",
    "    time.sleep(5)\n",
    "    def wrapper(*args, **kwargs):\n",
    "        gc.disable()\n",
    "        rss_before, vms_before = get_process_memory()\n",
    "        start = time.time()\n",
    "        result = func(*args, **kwargs)\n",
    "        elapsed_time, elapsed_time_raw = elapsed_since(start)\n",
    "        rss_after, vms_after = get_process_memory()\n",
    "        profiling_results[-1].append((rss_after - rss_before, vms_after - vms_before, elapsed_time, elapsed_time_raw))\n",
    "        profiling_results[-1].append(\"RSS: {:>8} | VMS: {:>8} | time: {:>8}\"\n",
    "            .format(format_bytes(rss_after - rss_before),\n",
    "                    format_bytes(vms_after - vms_before),\n",
    "                    elapsed_time))\n",
    "        gc.enable()\n",
    "        return result\n",
    "    if inspect.isfunction(func):\n",
    "        return wrapper\n",
    "    elif inspect.ismethod(func):\n",
    "        return wrapper(*args,**kwargs)\n",
    "    \n",
    "@profile\n",
    "def profile_method(method_class, **kwargs):\n",
    "    global profiling_results\n",
    "    profiling_results.append([])\n",
    "    profiling_results[-1].append(method_class)\n",
    "    method_class.fast_embed(**kwargs)"
   ]
  },
  {
   "cell_type": "code",
   "execution_count": 5,
   "metadata": {
    "ExecuteTime": {
     "end_time": "2020-12-29T20:14:32.737323Z",
     "start_time": "2020-12-29T20:14:27.624008Z"
    }
   },
   "outputs": [],
   "source": [
    "@profile\n",
    "def collect_memory():\n",
    "    gc.collect()"
   ]
  },
  {
   "cell_type": "code",
   "execution_count": 8,
   "metadata": {
    "ExecuteTime": {
     "end_time": "2020-12-29T20:14:32.846443Z",
     "start_time": "2020-12-29T20:14:32.741494Z"
    }
   },
   "outputs": [
    {
     "ename": "NameError",
     "evalue": "name 'profiling_results' is not defined",
     "output_type": "error",
     "traceback": [
      "\u001b[1;31m---------------------------------------------------------------------------\u001b[0m",
      "\u001b[1;31mNameError\u001b[0m                                 Traceback (most recent call last)",
      "\u001b[1;32m<ipython-input-8-265e0497b1b6>\u001b[0m in \u001b[0;36m<module>\u001b[1;34m\u001b[0m\n\u001b[1;32m----> 1\u001b[1;33m \u001b[0mcollect_memory\u001b[0m\u001b[1;33m(\u001b[0m\u001b[1;33m)\u001b[0m\u001b[1;33m\u001b[0m\u001b[1;33m\u001b[0m\u001b[0m\n\u001b[0m",
      "\u001b[1;32m<ipython-input-4-936d48423708>\u001b[0m in \u001b[0;36mwrapper\u001b[1;34m(*args, **kwargs)\u001b[0m\n\u001b[0;32m     49\u001b[0m         \u001b[0melapsed_time\u001b[0m\u001b[1;33m,\u001b[0m \u001b[0melapsed_time_raw\u001b[0m \u001b[1;33m=\u001b[0m \u001b[0melapsed_since\u001b[0m\u001b[1;33m(\u001b[0m\u001b[0mstart\u001b[0m\u001b[1;33m)\u001b[0m\u001b[1;33m\u001b[0m\u001b[1;33m\u001b[0m\u001b[0m\n\u001b[0;32m     50\u001b[0m         \u001b[0mrss_after\u001b[0m\u001b[1;33m,\u001b[0m \u001b[0mvms_after\u001b[0m \u001b[1;33m=\u001b[0m \u001b[0mget_process_memory\u001b[0m\u001b[1;33m(\u001b[0m\u001b[1;33m)\u001b[0m\u001b[1;33m\u001b[0m\u001b[1;33m\u001b[0m\u001b[0m\n\u001b[1;32m---> 51\u001b[1;33m         \u001b[0mprofiling_results\u001b[0m\u001b[1;33m[\u001b[0m\u001b[1;33m-\u001b[0m\u001b[1;36m1\u001b[0m\u001b[1;33m]\u001b[0m\u001b[1;33m.\u001b[0m\u001b[0mappend\u001b[0m\u001b[1;33m(\u001b[0m\u001b[1;33m(\u001b[0m\u001b[0mrss_after\u001b[0m \u001b[1;33m-\u001b[0m \u001b[0mrss_before\u001b[0m\u001b[1;33m,\u001b[0m \u001b[0mvms_after\u001b[0m \u001b[1;33m-\u001b[0m \u001b[0mvms_before\u001b[0m\u001b[1;33m,\u001b[0m \u001b[0melapsed_time\u001b[0m\u001b[1;33m,\u001b[0m \u001b[0melapsed_time_raw\u001b[0m\u001b[1;33m)\u001b[0m\u001b[1;33m)\u001b[0m\u001b[1;33m\u001b[0m\u001b[1;33m\u001b[0m\u001b[0m\n\u001b[0m\u001b[0;32m     52\u001b[0m         profiling_results[-1].append(\"RSS: {:>8} | VMS: {:>8} | time: {:>8}\"\n\u001b[0;32m     53\u001b[0m             .format(format_bytes(rss_after - rss_before),\n",
      "\u001b[1;31mNameError\u001b[0m: name 'profiling_results' is not defined"
     ]
    }
   ],
   "source": [
    "collect_memory()"
   ]
  },
  {
   "cell_type": "code",
   "execution_count": 49,
   "metadata": {
    "ExecuteTime": {
     "end_time": "2020-12-29T20:29:17.520220Z",
     "start_time": "2020-12-29T20:29:17.281514Z"
    }
   },
   "outputs": [],
   "source": [
    "import os, sys\n",
    "import contextlib\n",
    "\n",
    "graph, labels = rlg.generate_clusters_graph(200, 5, 0.03, 0.95)\n",
    "methods = [(method_name, method_class) for method_name, method_class in inspect.getmembers(rle) if method_name not in (\"GCN\", \"GNN\", \"__builtins__\")][:12]\n",
    "profiling_results = []"
   ]
  },
  {
   "cell_type": "code",
   "execution_count": 86,
   "metadata": {
    "ExecuteTime": {
     "end_time": "2020-12-29T22:21:55.284282Z",
     "start_time": "2020-12-29T22:21:55.279365Z"
    }
   },
   "outputs": [],
   "source": [
    "isTFMethod = {\n",
    "    \"DNGR\": False,\n",
    "    \"DeepWalk\": False,\n",
    "    \"GraRep\": True,\n",
    "    \"GraphFactorization\": True,\n",
    "    \"GraphWave\": True,\n",
    "    \"HARP\": False,\n",
    "    \"HOPE\": True,\n",
    "    \"LINE\": True,\n",
    "    \"LaplacianEigenmaps\": False,\n",
    "    \"Node2Vec\": False,\n",
    "    \"SDNE\": True,\n",
    "    \"Struc2Vec\": False\n",
    "}"
   ]
  },
  {
   "cell_type": "markdown",
   "metadata": {},
   "source": [
    "# Measure Time and Python process memory usage"
   ]
  },
  {
   "cell_type": "code",
   "execution_count": 98,
   "metadata": {
    "ExecuteTime": {
     "end_time": "2020-12-30T01:46:55.665228Z",
     "start_time": "2020-12-30T00:00:02.262574Z"
    },
    "scrolled": true
   },
   "outputs": [
    {
     "name": "stderr",
     "output_type": "stream",
     "text": [
      "\r",
      "  0%|          | 0/12 [00:00<?, ?it/s]"
     ]
    },
    {
     "name": "stdout",
     "output_type": "stream",
     "text": [
      "Graph size: 50\n"
     ]
    },
    {
     "name": "stderr",
     "output_type": "stream",
     "text": [
      "100%|██████████| 12/12 [00:38<00:00,  3.18s/it]\n",
      "  0%|          | 0/12 [00:00<?, ?it/s]"
     ]
    },
    {
     "name": "stdout",
     "output_type": "stream",
     "text": [
      "Graph size: 100\n"
     ]
    },
    {
     "name": "stderr",
     "output_type": "stream",
     "text": [
      "100%|██████████| 12/12 [01:11<00:00,  5.93s/it]\n",
      "  0%|          | 0/12 [00:00<?, ?it/s]"
     ]
    },
    {
     "name": "stdout",
     "output_type": "stream",
     "text": [
      "Graph size: 150\n"
     ]
    },
    {
     "name": "stderr",
     "output_type": "stream",
     "text": [
      "100%|██████████| 12/12 [02:30<00:00, 12.54s/it]\n",
      "  0%|          | 0/12 [00:00<?, ?it/s]"
     ]
    },
    {
     "name": "stdout",
     "output_type": "stream",
     "text": [
      "Graph size: 200\n"
     ]
    },
    {
     "name": "stderr",
     "output_type": "stream",
     "text": [
      "100%|██████████| 12/12 [04:48<00:00, 24.01s/it]\n",
      "  0%|          | 0/12 [00:00<?, ?it/s]"
     ]
    },
    {
     "name": "stdout",
     "output_type": "stream",
     "text": [
      "Graph size: 250\n"
     ]
    },
    {
     "name": "stderr",
     "output_type": "stream",
     "text": [
      "100%|██████████| 12/12 [08:24<00:00, 42.01s/it] \n"
     ]
    },
    {
     "name": "stdout",
     "output_type": "stream",
     "text": [
      "Graph size: 300\n"
     ]
    },
    {
     "name": "stderr",
     "output_type": "stream",
     "text": [
      "100%|██████████| 12/12 [13:51<00:00, 69.33s/it] \n"
     ]
    },
    {
     "name": "stdout",
     "output_type": "stream",
     "text": [
      "Graph size: 350\n"
     ]
    },
    {
     "name": "stderr",
     "output_type": "stream",
     "text": [
      "100%|██████████| 12/12 [22:23<00:00, 111.99s/it]\n"
     ]
    },
    {
     "name": "stdout",
     "output_type": "stream",
     "text": [
      "Graph size: 400\n"
     ]
    },
    {
     "name": "stderr",
     "output_type": "stream",
     "text": [
      "100%|██████████| 12/12 [30:33<00:00, 152.77s/it]\n"
     ]
    }
   ],
   "source": [
    "import os, sys\n",
    "import contextlib\n",
    "\n",
    "warnings.filterwarnings(\"ignore\")\n",
    "methods = [(method_name, method_class) for method_name, method_class in inspect.getmembers(rle) if method_name not in (\"GCN\", \"GNN\", \"__builtins__\")][:12]\n",
    "graph_sizes = list(range(50,450,50))\n",
    "result_dict = {}\n",
    "for graph_size in graph_sizes:\n",
    "    print(f\"Graph size: {graph_size}\")\n",
    "    graph, labels = rlg.generate_clusters_graph(graph_size, 5, 0.03, 0.95)\n",
    "    profiling_results = []\n",
    "    for method_name,method_class in tqdm(methods):\n",
    "#         print(f\"Profiling {method_name}\")\n",
    "        with open(os.devnull, \"w\") as f, contextlib.redirect_stdout(f):\n",
    "            profile_method(method_class, graph=graph)\n",
    "\n",
    "#     print(f\"Profiling GCN\")\n",
    "    with open(os.devnull, \"w\") as f, contextlib.redirect_stdout(f):\n",
    "        profile_method(rle.GCN, graph=graph, Y=labels)\n",
    "\n",
    "    labelsGNN = np.array([np.arange(len(labels)),labels]).T\n",
    "\n",
    "#     print(f\"Profiling GNN\")\n",
    "    with open(os.devnull, \"w\") as f, contextlib.redirect_stdout(f):\n",
    "        profile_method(rle.GNN, graph=graph, idx_labels=labelsGNN)\n",
    "    \n",
    "    result_dict[graph_size]=profiling_results"
   ]
  },
  {
   "cell_type": "code",
   "execution_count": 1,
   "metadata": {
    "ExecuteTime": {
     "end_time": "2020-12-30T01:47:31.407222Z",
     "start_time": "2020-12-30T01:47:31.387242Z"
    }
   },
   "outputs": [
    {
     "ename": "NameError",
     "evalue": "name 'result_dict' is not defined",
     "output_type": "error",
     "traceback": [
      "\u001b[1;31m---------------------------------------------------------------------------\u001b[0m",
      "\u001b[1;31mNameError\u001b[0m                                 Traceback (most recent call last)",
      "\u001b[1;32m<ipython-input-1-b64df4b985fe>\u001b[0m in \u001b[0;36m<module>\u001b[1;34m\u001b[0m\n\u001b[0;32m      1\u001b[0m \u001b[1;32mimport\u001b[0m \u001b[0mpickle\u001b[0m\u001b[1;33m\u001b[0m\u001b[1;33m\u001b[0m\u001b[0m\n\u001b[0;32m      2\u001b[0m \u001b[1;32mwith\u001b[0m \u001b[0mopen\u001b[0m\u001b[1;33m(\u001b[0m\u001b[1;34m\"time_analysis_results.p\"\u001b[0m\u001b[1;33m,\u001b[0m\u001b[1;34m\"wb\"\u001b[0m\u001b[1;33m)\u001b[0m \u001b[1;32mas\u001b[0m \u001b[0mf\u001b[0m\u001b[1;33m:\u001b[0m\u001b[1;33m\u001b[0m\u001b[1;33m\u001b[0m\u001b[0m\n\u001b[1;32m----> 3\u001b[1;33m     \u001b[0mpickle\u001b[0m\u001b[1;33m.\u001b[0m\u001b[0mdump\u001b[0m\u001b[1;33m(\u001b[0m\u001b[0mresult_dict\u001b[0m\u001b[1;33m,\u001b[0m \u001b[0mf\u001b[0m\u001b[1;33m)\u001b[0m\u001b[1;33m\u001b[0m\u001b[1;33m\u001b[0m\u001b[0m\n\u001b[0m",
      "\u001b[1;31mNameError\u001b[0m: name 'result_dict' is not defined"
     ]
    }
   ],
   "source": [
    "import pickle\n",
    "with open(\"time_analysis_results.p\",\"wb\") as f:\n",
    "    pickle.dump(result_dict, f)"
   ]
  },
  {
   "cell_type": "code",
   "execution_count": 17,
   "metadata": {},
   "outputs": [],
   "source": [
    "os.chdir(\"..\")"
   ]
  },
  {
   "cell_type": "code",
   "execution_count": 6,
   "metadata": {
    "ExecuteTime": {
     "end_time": "2020-12-30T01:52:02.589837Z",
     "start_time": "2020-12-30T01:52:02.585046Z"
    }
   },
   "outputs": [
    {
     "ename": "EOFError",
     "evalue": "Ran out of input",
     "output_type": "error",
     "traceback": [
      "\u001b[1;31m---------------------------------------------------------------------------\u001b[0m",
      "\u001b[1;31mEOFError\u001b[0m                                  Traceback (most recent call last)",
      "\u001b[1;32m<ipython-input-6-0d5cecf1f93f>\u001b[0m in \u001b[0;36m<module>\u001b[1;34m\u001b[0m\n\u001b[0;32m      1\u001b[0m \u001b[1;32mwith\u001b[0m \u001b[0mopen\u001b[0m\u001b[1;33m(\u001b[0m\u001b[1;34m\"time_analysis_results.p\"\u001b[0m\u001b[1;33m,\u001b[0m\u001b[1;34m\"rb\"\u001b[0m\u001b[1;33m)\u001b[0m \u001b[1;32mas\u001b[0m \u001b[0mf\u001b[0m\u001b[1;33m:\u001b[0m\u001b[1;33m\u001b[0m\u001b[1;33m\u001b[0m\u001b[0m\n\u001b[1;32m----> 2\u001b[1;33m     \u001b[0mresult_dict_loaded\u001b[0m \u001b[1;33m=\u001b[0m \u001b[0mpickle\u001b[0m\u001b[1;33m.\u001b[0m\u001b[0mload\u001b[0m\u001b[1;33m(\u001b[0m\u001b[0mf\u001b[0m\u001b[1;33m)\u001b[0m\u001b[1;33m\u001b[0m\u001b[1;33m\u001b[0m\u001b[0m\n\u001b[0m",
      "\u001b[1;31mEOFError\u001b[0m: Ran out of input"
     ]
    }
   ],
   "source": [
    "with open(\"time_analysis_results.p\",\"rb\") as f:\n",
    "    result_dict_loaded = pickle.load(f)"
   ]
  },
  {
   "cell_type": "code",
   "execution_count": 7,
   "metadata": {},
   "outputs": [
    {
     "data": {
      "text/plain": [
       "'C:\\\\Users\\\\Lukasz\\\\Desktop\\\\Studia\\\\SEM7\\\\Inż\\\\ReLeGy\\\\Analysis'"
      ]
     },
     "execution_count": 7,
     "metadata": {},
     "output_type": "execute_result"
    }
   ],
   "source": [
    "os.getcwd()"
   ]
  },
  {
   "cell_type": "code",
   "execution_count": 19,
   "metadata": {
    "ExecuteTime": {
     "end_time": "2020-12-30T01:52:07.730660Z",
     "start_time": "2020-12-30T01:52:07.706952Z"
    }
   },
   "outputs": [
    {
     "data": {
      "text/plain": [
       "{50: [[relegy.embeddings.DNGR.DNGR,\n",
       "   (2953216, 3244032, '18.03s', 18.034547805786133),\n",
       "   'RSS:   2.95MB | VMS:   3.24MB | time:   18.03s'],\n",
       "  [relegy.embeddings.DeepWalk.DeepWalk,\n",
       "   (20480, 0, '2.18s', 2.1839780807495117),\n",
       "   'RSS:  20.48kB | VMS:       0B | time:    2.18s'],\n",
       "  [relegy.embeddings.GraRep.GraRep,\n",
       "   (0, 0, '7.38ms', 0.00738215446472168),\n",
       "   'RSS:       0B | VMS:       0B | time:   7.38ms'],\n",
       "  [relegy.embeddings.GraphFactorization.GraphFactorization,\n",
       "   (-2215936, 0, '1.66s', 1.6567509174346924),\n",
       "   'RSS:  -2.22MB | VMS:       0B | time:    1.66s'],\n",
       "  [relegy.embeddings.GraphWave.GraphWave,\n",
       "   (0, 0, '5.36ms', 0.005357027053833008),\n",
       "   'RSS:       0B | VMS:       0B | time:   5.36ms'],\n",
       "  [relegy.embeddings.HARP.HARP,\n",
       "   (122880, 110592, '3.68s', 3.676934003829956),\n",
       "   'RSS: 122.88kB | VMS: 110.59kB | time:    3.68s'],\n",
       "  [relegy.embeddings.HOPE.HOPE,\n",
       "   (4096, 0, '3.38ms', 0.0033829212188720703),\n",
       "   'RSS:    4.1kB | VMS:       0B | time:   3.38ms'],\n",
       "  [relegy.embeddings.LINE.LINE,\n",
       "   (0, 0, '1.98s', 1.9753961563110352),\n",
       "   'RSS:       0B | VMS:       0B | time:    1.98s'],\n",
       "  [relegy.embeddings.LaplacianEigenmaps.LaplacianEigenmaps,\n",
       "   (221184, 708608, '255.52ms', 0.25551581382751465),\n",
       "   'RSS: 221.18kB | VMS: 708.61kB | time: 255.52ms'],\n",
       "  [relegy.embeddings.Node2Vec.Node2Vec,\n",
       "   (-3817472, 0, '2.67s', 2.665410041809082),\n",
       "   'RSS:  -3.82MB | VMS:       0B | time:    2.67s'],\n",
       "  [relegy.embeddings.SDNE.SDNE,\n",
       "   (610304, 1048576, '3.01s', 3.014868974685669),\n",
       "   'RSS:  610.3kB | VMS:   1.05MB | time:    3.01s'],\n",
       "  [relegy.embeddings.Struc2Vec.Struc2Vec,\n",
       "   (49152, 0, '4.6s', 4.598684072494507),\n",
       "   'RSS:  49.15kB | VMS:       0B | time:     4.6s'],\n",
       "  [relegy.embeddings.GCN.GCN,\n",
       "   (32768, 0, '1.85s', 1.8542540073394775),\n",
       "   'RSS:  32.77kB | VMS:       0B | time:    1.85s'],\n",
       "  [relegy.embeddings.GNN.GNN,\n",
       "   (-1155072, -1736704, '2.29s', 2.2874271869659424),\n",
       "   'RSS:  -1.16MB | VMS:  -1.74MB | time:    2.29s']],\n",
       " 100: [[relegy.embeddings.DNGR.DNGR,\n",
       "   (1220608, 2174976, '22.9s', 22.90157413482666),\n",
       "   'RSS:   1.22MB | VMS:   2.17MB | time:    22.9s'],\n",
       "  [relegy.embeddings.DeepWalk.DeepWalk,\n",
       "   (3985408, 3985408, '2.51s', 2.511955976486206),\n",
       "   'RSS:   3.99MB | VMS:   3.99MB | time:    2.51s'],\n",
       "  [relegy.embeddings.GraRep.GraRep,\n",
       "   (-4919296, -4919296, '7.59ms', 0.007589101791381836),\n",
       "   'RSS:  -4.92MB | VMS:  -4.92MB | time:   7.59ms'],\n",
       "  [relegy.embeddings.GraphFactorization.GraphFactorization,\n",
       "   (90112, 81920, '1.36s', 1.356086015701294),\n",
       "   'RSS:  90.11kB | VMS:  81.92kB | time:    1.36s'],\n",
       "  [relegy.embeddings.GraphWave.GraphWave,\n",
       "   (-53248, -53248, '7.66ms', 0.007658958435058594),\n",
       "   'RSS: -53.25kB | VMS: -53.25kB | time:   7.66ms'],\n",
       "  [relegy.embeddings.HARP.HARP,\n",
       "   (5980160, 5971968, '7.34s', 7.341855049133301),\n",
       "   'RSS:   5.98MB | VMS:   5.97MB | time:    7.34s'],\n",
       "  [relegy.embeddings.HOPE.HOPE,\n",
       "   (-5513216, -5513216, '6.46ms', 0.00645899772644043),\n",
       "   'RSS:  -5.51MB | VMS:  -5.51MB | time:   6.46ms'],\n",
       "  [relegy.embeddings.LINE.LINE,\n",
       "   (81920, 81920, '1.94s', 1.9424917697906494),\n",
       "   'RSS:  81.92kB | VMS:  81.92kB | time:    1.94s'],\n",
       "  [relegy.embeddings.LaplacianEigenmaps.LaplacianEigenmaps,\n",
       "   (1052672, 3002368, '1.04s', 1.042402982711792),\n",
       "   'RSS:   1.05MB | VMS:    3.0MB | time:    1.04s'],\n",
       "  [relegy.embeddings.Node2Vec.Node2Vec,\n",
       "   (544768, 544768, '3.64s', 3.6409661769866943),\n",
       "   'RSS: 544.77kB | VMS: 544.77kB | time:    3.64s'],\n",
       "  [relegy.embeddings.SDNE.SDNE,\n",
       "   (-1089536, -3301376, '3.15s', 3.1546192169189453),\n",
       "   'RSS:  -1.09MB | VMS:   -3.3MB | time:    3.15s'],\n",
       "  [relegy.embeddings.Struc2Vec.Struc2Vec,\n",
       "   (1130496, 1110016, '27.24s', 27.24015784263611),\n",
       "   'RSS:   1.13MB | VMS:   1.11MB | time:   27.24s'],\n",
       "  [relegy.embeddings.GCN.GCN,\n",
       "   (110592, 81920, '1.87s', 1.8680901527404785),\n",
       "   'RSS: 110.59kB | VMS:  81.92kB | time:    1.87s'],\n",
       "  [relegy.embeddings.GNN.GNN,\n",
       "   (8069120, 8044544, '5.59s', 5.591538906097412),\n",
       "   'RSS:   8.07MB | VMS:   8.04MB | time:    5.59s']],\n",
       " 150: [[relegy.embeddings.DNGR.DNGR,\n",
       "   (-1654784, -1552384, '35.56s', 35.56291079521179),\n",
       "   'RSS:  -1.65MB | VMS:  -1.55MB | time:   35.56s'],\n",
       "  [relegy.embeddings.DeepWalk.DeepWalk,\n",
       "   (8814592, 8957952, '3.88s', 3.8797190189361572),\n",
       "   'RSS:   8.81MB | VMS:   8.96MB | time:    3.88s'],\n",
       "  [relegy.embeddings.GraRep.GraRep,\n",
       "   (-10407936, -10514432, '16.76ms', 0.016759157180786133),\n",
       "   'RSS: -10.41MB | VMS: -10.51MB | time:  16.76ms'],\n",
       "  [relegy.embeddings.GraphFactorization.GraphFactorization,\n",
       "   (49152, 45056, '1.82s', 1.823106050491333),\n",
       "   'RSS:  49.15kB | VMS:  45.06kB | time:    1.82s'],\n",
       "  [relegy.embeddings.GraphWave.GraphWave,\n",
       "   (-131072, -114688, '11.81ms', 0.011805057525634766),\n",
       "   'RSS: -131.07kB | VMS: -114.69kB | time:  11.81ms'],\n",
       "  [relegy.embeddings.HARP.HARP,\n",
       "   (13381632, 13381632, '10.76s', 10.760486841201782),\n",
       "   'RSS:  13.38MB | VMS:  13.38MB | time:   10.76s'],\n",
       "  [relegy.embeddings.HOPE.HOPE,\n",
       "   (-12173312, -12189696, '11.83ms', 0.011833906173706055),\n",
       "   'RSS: -12.17MB | VMS: -12.19MB | time:  11.83ms'],\n",
       "  [relegy.embeddings.LINE.LINE,\n",
       "   (4096, 45056, '2.11s', 2.1081459522247314),\n",
       "   'RSS:    4.1kB | VMS:  45.06kB | time:    2.11s'],\n",
       "  [relegy.embeddings.LaplacianEigenmaps.LaplacianEigenmaps,\n",
       "   (2064384, 6356992, '3.23s', 3.227018117904663),\n",
       "   'RSS:   2.06MB | VMS:   6.36MB | time:    3.23s'],\n",
       "  [relegy.embeddings.Node2Vec.Node2Vec,\n",
       "   (1007616, 1007616, '5.24s', 5.240061044692993),\n",
       "   'RSS:   1.01MB | VMS:   1.01MB | time:    5.24s'],\n",
       "  [relegy.embeddings.SDNE.SDNE,\n",
       "   (-2531328, -7053312, '2.99s', 2.993546962738037),\n",
       "   'RSS:  -2.53MB | VMS:  -7.05MB | time:    2.99s'],\n",
       "  [relegy.embeddings.Struc2Vec.Struc2Vec,\n",
       "   (2334720, 2297856, '1.41min', 84.86188912391663),\n",
       "   'RSS:   2.33MB | VMS:    2.3MB | time:  1.41min'],\n",
       "  [relegy.embeddings.GCN.GCN,\n",
       "   (-323584, -335872, '1.91s', 1.9112398624420166),\n",
       "   'RSS: -323.58kB | VMS: -335.87kB | time:    1.91s'],\n",
       "  [relegy.embeddings.GNN.GNN,\n",
       "   (21450752, 21323776, '21.54s', 21.544320106506348),\n",
       "   'RSS:  21.45MB | VMS:  21.32MB | time:   21.54s']],\n",
       " 200: [[relegy.embeddings.DNGR.DNGR,\n",
       "   (-14102528, -13934592, '46.78s', 46.78249382972717),\n",
       "   'RSS:  -14.1MB | VMS: -13.93MB | time:   46.78s'],\n",
       "  [relegy.embeddings.DeepWalk.DeepWalk,\n",
       "   (13791232, 13836288, '5.27s', 5.271875858306885),\n",
       "   'RSS:  13.79MB | VMS:  13.84MB | time:    5.27s'],\n",
       "  [relegy.embeddings.GraRep.GraRep,\n",
       "   (-18051072, -18067456, '18.28ms', 0.018279075622558594),\n",
       "   'RSS: -18.05MB | VMS: -18.07MB | time:  18.28ms'],\n",
       "  [relegy.embeddings.GraphFactorization.GraphFactorization,\n",
       "   (40960, 40960, '2.02s', 2.0209860801696777),\n",
       "   'RSS:  40.96kB | VMS:  40.96kB | time:    2.02s'],\n",
       "  [relegy.embeddings.GraphWave.GraphWave,\n",
       "   (-1138688, -1056768, '17.29ms', 0.017289161682128906),\n",
       "   'RSS:  -1.14MB | VMS:  -1.06MB | time:  17.29ms'],\n",
       "  [relegy.embeddings.HARP.HARP,\n",
       "   (19386368, 19357696, '17.41s', 17.412675857543945),\n",
       "   'RSS:  19.39MB | VMS:  19.36MB | time:   17.41s'],\n",
       "  [relegy.embeddings.HOPE.HOPE,\n",
       "   (-18169856, -18186240, '17.77ms', 0.017769813537597656),\n",
       "   'RSS: -18.17MB | VMS: -18.19MB | time:  17.77ms'],\n",
       "  [relegy.embeddings.LINE.LINE,\n",
       "   (40960, 40960, '2.52s', 2.5186219215393066),\n",
       "   'RSS:  40.96kB | VMS:  40.96kB | time:    2.52s'],\n",
       "  [relegy.embeddings.LaplacianEigenmaps.LaplacianEigenmaps,\n",
       "   (2244608, 9945088, '7.31s', 7.312626838684082),\n",
       "   'RSS:   2.24MB | VMS:   9.95MB | time:    7.31s'],\n",
       "  [relegy.embeddings.Node2Vec.Node2Vec,\n",
       "   (2109440, 2109440, '7.14s', 7.1387269496917725),\n",
       "   'RSS:   2.11MB | VMS:   2.11MB | time:    7.14s'],\n",
       "  [relegy.embeddings.SDNE.SDNE,\n",
       "   (-102400, -626688, '3.13s', 3.1255059242248535),\n",
       "   'RSS: -102.4kB | VMS: -626.69kB | time:    3.13s'],\n",
       "  [relegy.embeddings.Struc2Vec.Struc2Vec,\n",
       "   (3715072, 3702784, '3.27min', 196.42441987991333),\n",
       "   'RSS:   3.72MB | VMS:    3.7MB | time:  3.27min'],\n",
       "  [relegy.embeddings.GCN.GCN,\n",
       "   (-3973120, -3973120, '1.95s', 1.9451189041137695),\n",
       "   'RSS:  -3.97MB | VMS:  -3.97MB | time:    1.95s'],\n",
       "  [relegy.embeddings.GNN.GNN,\n",
       "   (46731264, 46669824, '52.29s', 52.288068771362305),\n",
       "   'RSS:  46.73MB | VMS:  46.67MB | time:   52.29s']],\n",
       " 250: [[relegy.embeddings.DNGR.DNGR,\n",
       "   (-9334784, -6905856, '1.02min', 60.92100691795349),\n",
       "   'RSS:  -9.33MB | VMS:  -6.91MB | time:  1.02min'],\n",
       "  [relegy.embeddings.DeepWalk.DeepWalk,\n",
       "   (29659136, 29949952, '6.62s', 6.624878883361816),\n",
       "   'RSS:  29.66MB | VMS:  29.95MB | time:    6.62s'],\n",
       "  [relegy.embeddings.GraRep.GraRep,\n",
       "   (-27828224, -28094464, '27.09ms', 0.027086973190307617),\n",
       "   'RSS: -27.83MB | VMS: -28.09MB | time:  27.09ms'],\n",
       "  [relegy.embeddings.GraphFactorization.GraphFactorization,\n",
       "   (-626688, -593920, '2.11s', 2.1148087978363037),\n",
       "   'RSS: -626.69kB | VMS: -593.92kB | time:    2.11s'],\n",
       "  [relegy.embeddings.GraphWave.GraphWave,\n",
       "   (-1347584, -1363968, '24.53ms', 0.02453470230102539),\n",
       "   'RSS:  -1.35MB | VMS:  -1.36MB | time:  24.53ms'],\n",
       "  [relegy.embeddings.HARP.HARP,\n",
       "   (30154752, 29949952, '27.09s', 27.093458890914917),\n",
       "   'RSS:  30.15MB | VMS:  29.95MB | time:   27.09s'],\n",
       "  [relegy.embeddings.HOPE.HOPE,\n",
       "   (-28385280, -28327936, '30.51ms', 0.03050684928894043),\n",
       "   'RSS: -28.39MB | VMS: -28.33MB | time:  30.51ms'],\n",
       "  [relegy.embeddings.LINE.LINE,\n",
       "   (-180224, -90112, '2.75s', 2.7519428730010986),\n",
       "   'RSS: -180.22kB | VMS: -90.11kB | time:    2.75s'],\n",
       "  [relegy.embeddings.LaplacianEigenmaps.LaplacianEigenmaps,\n",
       "   (3878912, 15843328, '13.99s', 13.991497993469238),\n",
       "   'RSS:   3.88MB | VMS:  15.84MB | time:   13.99s'],\n",
       "  [relegy.embeddings.Node2Vec.Node2Vec,\n",
       "   (3018752, 3018752, '8.51s', 8.514127731323242),\n",
       "   'RSS:   3.02MB | VMS:   3.02MB | time:    8.51s'],\n",
       "  [relegy.embeddings.SDNE.SDNE,\n",
       "   (-585728, -868352, '3.5s', 3.50266695022583),\n",
       "   'RSS: -585.73kB | VMS: -868.35kB | time:     3.5s'],\n",
       "  [relegy.embeddings.Struc2Vec.Struc2Vec,\n",
       "   (4608000, 4608000, '6.31min', 378.4738800525665),\n",
       "   'RSS:   4.61MB | VMS:   4.61MB | time:  6.31min'],\n",
       "  [relegy.embeddings.GCN.GCN,\n",
       "   (-5709824, -5713920, '2.05s', 2.0506649017333984),\n",
       "   'RSS:  -5.71MB | VMS:  -5.71MB | time:    2.05s'],\n",
       "  [relegy.embeddings.GNN.GNN,\n",
       "   (109182976, 109182976, '36.92s', 36.919517040252686),\n",
       "   'RSS: 109.18MB | VMS: 109.18MB | time:   36.92s']],\n",
       " 300: [[relegy.embeddings.DNGR.DNGR,\n",
       "   (-39727104, -39268352, '1.35min', 80.75852370262146),\n",
       "   'RSS: -39.73MB | VMS: -39.27MB | time:  1.35min'],\n",
       "  [relegy.embeddings.DeepWalk.DeepWalk,\n",
       "   (44621824, 45182976, '7.69s', 7.690804958343506),\n",
       "   'RSS:  44.62MB | VMS:  45.18MB | time:    7.69s'],\n",
       "  [relegy.embeddings.GraRep.GraRep,\n",
       "   (-39936000, -39854080, '39.32ms', 0.03931593894958496),\n",
       "   'RSS: -39.94MB | VMS: -39.85MB | time:  39.32ms'],\n",
       "  [relegy.embeddings.GraphFactorization.GraphFactorization,\n",
       "   (-1458176, -1445888, '2.29s', 2.2861709594726562),\n",
       "   'RSS:  -1.46MB | VMS:  -1.45MB | time:    2.29s'],\n",
       "  [relegy.embeddings.GraphWave.GraphWave,\n",
       "   (520192, 577536, '34.95ms', 0.03495192527770996),\n",
       "   'RSS: 520.19kB | VMS: 577.54kB | time:  34.95ms'],\n",
       "  [relegy.embeddings.HARP.HARP,\n",
       "   (43921408, 43401216, '35.34s', 35.33722758293152),\n",
       "   'RSS:  43.92MB | VMS:   43.4MB | time:   35.34s'],\n",
       "  [relegy.embeddings.HOPE.HOPE,\n",
       "   (-41648128, -41590784, '39.69ms', 0.039694786071777344),\n",
       "   'RSS: -41.65MB | VMS: -41.59MB | time:  39.69ms'],\n",
       "  [relegy.embeddings.LINE.LINE,\n",
       "   (-442368, -413696, '3.13s', 3.1348390579223633),\n",
       "   'RSS: -442.37kB | VMS: -413.7kB | time:    3.13s'],\n",
       "  [relegy.embeddings.LaplacianEigenmaps.LaplacianEigenmaps,\n",
       "   (4763648, 23322624, '28.62s', 28.624207258224487),\n",
       "   'RSS:   4.76MB | VMS:  23.32MB | time:   28.62s'],\n",
       "  [relegy.embeddings.Node2Vec.Node2Vec,\n",
       "   (-2936832, -20312064, '10.2s', 10.203519105911255),\n",
       "   'RSS:  -2.94MB | VMS: -20.31MB | time:    10.2s'],\n",
       "  [relegy.embeddings.SDNE.SDNE,\n",
       "   (-630784, -1363968, '3.52s', 3.519763946533203),\n",
       "   'RSS: -630.78kB | VMS:  -1.36MB | time:    3.52s'],\n",
       "  [relegy.embeddings.Struc2Vec.Struc2Vec,\n",
       "   (6877184, 6877184, '11.0min', 660.2661519050598),\n",
       "   'RSS:   6.88MB | VMS:   6.88MB | time:  11.0min'],\n",
       "  [relegy.embeddings.GCN.GCN,\n",
       "   (-8507392, -8507392, '2.42s', 2.418900966644287),\n",
       "   'RSS:  -8.51MB | VMS:  -8.51MB | time:    2.42s'],\n",
       "  [relegy.embeddings.GNN.GNN,\n",
       "   (72290304, 161607680, '4.54min', 272.49393820762634),\n",
       "   'RSS:  72.29MB | VMS: 161.61MB | time:  4.54min']],\n",
       " 350: [[relegy.embeddings.DNGR.DNGR,\n",
       "   (-65646592, -88444928, '1.73min', 103.94047617912292),\n",
       "   'RSS: -65.65MB | VMS: -88.44MB | time:  1.73min'],\n",
       "  [relegy.embeddings.DeepWalk.DeepWalk,\n",
       "   (64589824, 61554688, '9.13s', 9.128551006317139),\n",
       "   'RSS:  64.59MB | VMS:  61.55MB | time:    9.13s'],\n",
       "  [relegy.embeddings.GraRep.GraRep,\n",
       "   (-54915072, -55255040, '63.47ms', 0.06347203254699707),\n",
       "   'RSS: -54.92MB | VMS: -55.26MB | time:  63.47ms'],\n",
       "  [relegy.embeddings.GraphFactorization.GraphFactorization,\n",
       "   (-1277952, -1671168, '3.25s', 3.2536239624023438),\n",
       "   'RSS:  -1.28MB | VMS:  -1.67MB | time:    3.25s'],\n",
       "  [relegy.embeddings.GraphWave.GraphWave,\n",
       "   (1810432, 364544, '53.11ms', 0.053109169006347656),\n",
       "   'RSS:   1.81MB | VMS: 364.54kB | time:  53.11ms'],\n",
       "  [relegy.embeddings.HARP.HARP,\n",
       "   (59789312, 59396096, '46.89s', 46.888537883758545),\n",
       "   'RSS:  59.79MB | VMS:   59.4MB | time:   46.89s'],\n",
       "  [relegy.embeddings.HOPE.HOPE,\n",
       "   (-54042624, -54063104, '58.63ms', 0.05862998962402344),\n",
       "   'RSS: -54.04MB | VMS: -54.06MB | time:  58.63ms'],\n",
       "  [relegy.embeddings.LINE.LINE,\n",
       "   (-1245184, -1208320, '4.23s', 4.230015993118286),\n",
       "   'RSS:  -1.25MB | VMS:  -1.21MB | time:    4.23s'],\n",
       "  [relegy.embeddings.LaplacianEigenmaps.LaplacianEigenmaps,\n",
       "   (9596928, 32088064, '39.39s', 39.394522190093994),\n",
       "   'RSS:    9.6MB | VMS:  32.09MB | time:   39.39s'],\n",
       "  [relegy.embeddings.Node2Vec.Node2Vec,\n",
       "   (-4562944, -28299264, '10.83s', 10.827193975448608),\n",
       "   'RSS:  -4.56MB | VMS:  -28.3MB | time:   10.83s'],\n",
       "  [relegy.embeddings.SDNE.SDNE,\n",
       "   (-147456, -2002944, '4.89s', 4.893589973449707),\n",
       "   'RSS: -147.46kB | VMS:   -2.0MB | time:    4.89s'],\n",
       "  [relegy.embeddings.Struc2Vec.Struc2Vec,\n",
       "   (10100736, 9576448, '18.69min', 1121.1144087314606),\n",
       "   'RSS:   10.1MB | VMS:   9.58MB | time: 18.69min'],\n",
       "  [relegy.embeddings.GCN.GCN,\n",
       "   (-11177984, -12197888, '2.84s', 2.8406641483306885),\n",
       "   'RSS: -11.18MB | VMS:  -12.2MB | time:    2.84s'],\n",
       "  [relegy.embeddings.GNN.GNN,\n",
       "   (250302464, 281530368, '4.75min', 284.89632415771484),\n",
       "   'RSS:  250.3MB | VMS: 281.53MB | time:  4.75min']],\n",
       " 400: [[relegy.embeddings.DNGR.DNGR,\n",
       "   (-139948032, -166117376, '1.95min', 117.15741801261902),\n",
       "   'RSS: -139.95MB | VMS: -166.12MB | time:  1.95min'],\n",
       "  [relegy.embeddings.DeepWalk.DeepWalk,\n",
       "   (80793600, 81068032, '9.86s', 9.86206316947937),\n",
       "   'RSS:  80.79MB | VMS:  81.07MB | time:    9.86s'],\n",
       "  [relegy.embeddings.GraRep.GraRep,\n",
       "   (-70848512, -70692864, '78.69ms', 0.0786900520324707),\n",
       "   'RSS: -70.85MB | VMS: -70.69MB | time:  78.69ms'],\n",
       "  [relegy.embeddings.GraphFactorization.GraphFactorization,\n",
       "   (-4636672, -4833280, '3.61s', 3.610931873321533),\n",
       "   'RSS:  -4.64MB | VMS:  -4.83MB | time:    3.61s'],\n",
       "  [relegy.embeddings.GraphWave.GraphWave,\n",
       "   (2134016, 2150400, '65.82ms', 0.06582283973693848),\n",
       "   'RSS:   2.13MB | VMS:   2.15MB | time:  65.82ms'],\n",
       "  [relegy.embeddings.HARP.HARP,\n",
       "   (77365248, 76640256, '56.77s', 56.76971173286438),\n",
       "   'RSS:  77.37MB | VMS:  76.64MB | time:   56.77s'],\n",
       "  [relegy.embeddings.HOPE.HOPE,\n",
       "   (-71348224, -71200768, '69.57ms', 0.06956791877746582),\n",
       "   'RSS: -71.35MB | VMS:  -71.2MB | time:  69.57ms'],\n",
       "  [relegy.embeddings.LINE.LINE,\n",
       "   (-4112384, -4079616, '4.06s', 4.062522888183594),\n",
       "   'RSS:  -4.11MB | VMS:  -4.08MB | time:    4.06s'],\n",
       "  [relegy.embeddings.LaplacianEigenmaps.LaplacianEigenmaps,\n",
       "   (13475840, 44113920, '55.5s', 55.5006058216095),\n",
       "   'RSS:  13.48MB | VMS:  44.11MB | time:    55.5s'],\n",
       "  [relegy.embeddings.Node2Vec.Node2Vec,\n",
       "   (-6213632, -37060608, '10.08s', 10.077337741851807),\n",
       "   'RSS:  -6.21MB | VMS: -37.06MB | time:   10.08s'],\n",
       "  [relegy.embeddings.SDNE.SDNE,\n",
       "   (-2347008, -2789376, '4.68s', 4.677592039108276),\n",
       "   'RSS:  -2.35MB | VMS:  -2.79MB | time:    4.68s'],\n",
       "  [relegy.embeddings.Struc2Vec.Struc2Vec,\n",
       "   (10448896, 10407936, '26.19min', 1571.2285859584808),\n",
       "   'RSS:  10.45MB | VMS:  10.41MB | time: 26.19min'],\n",
       "  [relegy.embeddings.GCN.GCN,\n",
       "   (-11993088, -12148736, '2.86s', 2.8641772270202637),\n",
       "   'RSS: -11.99MB | VMS: -12.15MB | time:    2.86s'],\n",
       "  [relegy.embeddings.GNN.GNN,\n",
       "   (251011072, 420225024, '10.95min', 657.0922338962555),\n",
       "   'RSS: 251.01MB | VMS: 420.23MB | time: 10.95min']]}"
      ]
     },
     "execution_count": 19,
     "metadata": {},
     "output_type": "execute_result"
    }
   ],
   "source": [
    "result_dict_loaded"
   ]
  },
  {
   "cell_type": "code",
   "execution_count": 26,
   "metadata": {
    "ExecuteTime": {
     "end_time": "2020-12-30T01:50:13.524908Z",
     "start_time": "2020-12-30T01:50:13.499841Z"
    }
   },
   "outputs": [
    {
     "data": {
      "text/plain": [
       "0.00738215446472168"
      ]
     },
     "execution_count": 26,
     "metadata": {},
     "output_type": "execute_result"
    }
   ],
   "source": [
    "result_dict_loaded[50][2][1][3]"
   ]
  },
  {
   "cell_type": "code",
   "execution_count": 32,
   "metadata": {},
   "outputs": [],
   "source": [
    "result_dict = result_dict_loaded"
   ]
  },
  {
   "cell_type": "code",
   "execution_count": 33,
   "metadata": {
    "ExecuteTime": {
     "end_time": "2020-12-30T01:50:40.259096Z",
     "start_time": "2020-12-30T01:50:40.244683Z"
    }
   },
   "outputs": [
    {
     "data": {
      "text/plain": [
       "{relegy.embeddings.DNGR.DNGR: [(50, 18.034547805786133),\n",
       "  (100, 22.90157413482666),\n",
       "  (150, 35.56291079521179),\n",
       "  (200, 46.78249382972717),\n",
       "  (250, 60.92100691795349),\n",
       "  (300, 80.75852370262146),\n",
       "  (350, 103.94047617912292),\n",
       "  (400, 117.15741801261902)],\n",
       " relegy.embeddings.DeepWalk.DeepWalk: [(50, 2.1839780807495117),\n",
       "  (100, 2.511955976486206),\n",
       "  (150, 3.8797190189361572),\n",
       "  (200, 5.271875858306885),\n",
       "  (250, 6.624878883361816),\n",
       "  (300, 7.690804958343506),\n",
       "  (350, 9.128551006317139),\n",
       "  (400, 9.86206316947937)],\n",
       " relegy.embeddings.GCN.GCN: [(50, 1.8542540073394775),\n",
       "  (100, 1.8680901527404785),\n",
       "  (150, 1.9112398624420166),\n",
       "  (200, 1.9451189041137695),\n",
       "  (250, 2.0506649017333984),\n",
       "  (300, 2.418900966644287),\n",
       "  (350, 2.8406641483306885),\n",
       "  (400, 2.8641772270202637)],\n",
       " relegy.embeddings.GNN.GNN: [(50, 2.2874271869659424),\n",
       "  (100, 5.591538906097412),\n",
       "  (150, 21.544320106506348),\n",
       "  (200, 52.288068771362305),\n",
       "  (250, 36.919517040252686),\n",
       "  (300, 272.49393820762634),\n",
       "  (350, 284.89632415771484),\n",
       "  (400, 657.0922338962555)],\n",
       " relegy.embeddings.GraRep.GraRep: [(50, 0.00738215446472168),\n",
       "  (100, 0.007589101791381836),\n",
       "  (150, 0.016759157180786133),\n",
       "  (200, 0.018279075622558594),\n",
       "  (250, 0.027086973190307617),\n",
       "  (300, 0.03931593894958496),\n",
       "  (350, 0.06347203254699707),\n",
       "  (400, 0.0786900520324707)],\n",
       " relegy.embeddings.GraphFactorization.GraphFactorization: [(50,\n",
       "   1.6567509174346924),\n",
       "  (100, 1.356086015701294),\n",
       "  (150, 1.823106050491333),\n",
       "  (200, 2.0209860801696777),\n",
       "  (250, 2.1148087978363037),\n",
       "  (300, 2.2861709594726562),\n",
       "  (350, 3.2536239624023438),\n",
       "  (400, 3.610931873321533)],\n",
       " relegy.embeddings.GraphWave.GraphWave: [(50, 0.005357027053833008),\n",
       "  (100, 0.007658958435058594),\n",
       "  (150, 0.011805057525634766),\n",
       "  (200, 0.017289161682128906),\n",
       "  (250, 0.02453470230102539),\n",
       "  (300, 0.03495192527770996),\n",
       "  (350, 0.053109169006347656),\n",
       "  (400, 0.06582283973693848)],\n",
       " relegy.embeddings.HARP.HARP: [(50, 3.676934003829956),\n",
       "  (100, 7.341855049133301),\n",
       "  (150, 10.760486841201782),\n",
       "  (200, 17.412675857543945),\n",
       "  (250, 27.093458890914917),\n",
       "  (300, 35.33722758293152),\n",
       "  (350, 46.888537883758545),\n",
       "  (400, 56.76971173286438)],\n",
       " relegy.embeddings.HOPE.HOPE: [(50, 0.0033829212188720703),\n",
       "  (100, 0.00645899772644043),\n",
       "  (150, 0.011833906173706055),\n",
       "  (200, 0.017769813537597656),\n",
       "  (250, 0.03050684928894043),\n",
       "  (300, 0.039694786071777344),\n",
       "  (350, 0.05862998962402344),\n",
       "  (400, 0.06956791877746582)],\n",
       " relegy.embeddings.LINE.LINE: [(50, 1.9753961563110352),\n",
       "  (100, 1.9424917697906494),\n",
       "  (150, 2.1081459522247314),\n",
       "  (200, 2.5186219215393066),\n",
       "  (250, 2.7519428730010986),\n",
       "  (300, 3.1348390579223633),\n",
       "  (350, 4.230015993118286),\n",
       "  (400, 4.062522888183594)],\n",
       " relegy.embeddings.LaplacianEigenmaps.LaplacianEigenmaps: [(50,\n",
       "   0.25551581382751465),\n",
       "  (100, 1.042402982711792),\n",
       "  (150, 3.227018117904663),\n",
       "  (200, 7.312626838684082),\n",
       "  (250, 13.991497993469238),\n",
       "  (300, 28.624207258224487),\n",
       "  (350, 39.394522190093994),\n",
       "  (400, 55.5006058216095)],\n",
       " relegy.embeddings.Node2Vec.Node2Vec: [(50, 2.665410041809082),\n",
       "  (100, 3.6409661769866943),\n",
       "  (150, 5.240061044692993),\n",
       "  (200, 7.1387269496917725),\n",
       "  (250, 8.514127731323242),\n",
       "  (300, 10.203519105911255),\n",
       "  (350, 10.827193975448608),\n",
       "  (400, 10.077337741851807)],\n",
       " relegy.embeddings.SDNE.SDNE: [(50, 3.014868974685669),\n",
       "  (100, 3.1546192169189453),\n",
       "  (150, 2.993546962738037),\n",
       "  (200, 3.1255059242248535),\n",
       "  (250, 3.50266695022583),\n",
       "  (300, 3.519763946533203),\n",
       "  (350, 4.893589973449707),\n",
       "  (400, 4.677592039108276)],\n",
       " relegy.embeddings.Struc2Vec.Struc2Vec: [(50, 4.598684072494507),\n",
       "  (100, 27.24015784263611),\n",
       "  (150, 84.86188912391663),\n",
       "  (200, 196.42441987991333),\n",
       "  (250, 378.4738800525665),\n",
       "  (300, 660.2661519050598),\n",
       "  (350, 1121.1144087314606),\n",
       "  (400, 1571.2285859584808)]}"
      ]
     },
     "execution_count": 33,
     "metadata": {},
     "output_type": "execute_result"
    }
   ],
   "source": [
    "method_result_dict = {method_class:[] for method_name, method_class in inspect.getmembers(rle)[:14]}\n",
    "for key, values in result_dict.items():\n",
    "    for method_class, measures, _ in values:\n",
    "        method_result_dict[method_class].append((key, measures[3]))\n",
    "method_result_dict"
   ]
  },
  {
   "cell_type": "code",
   "execution_count": 49,
   "metadata": {},
   "outputs": [
    {
     "data": {
      "image/png": "[encoded data removed]",
      "text/plain": [
       "<Figure size 1080x720 with 1 Axes>"
      ]
     },
     "metadata": {
      "needs_background": "light"
     },
     "output_type": "display_data"
    }
   ],
   "source": [
    "rcParams[\"figure.figsize\"] = 15, 10\n",
    "for i in method_result_dict.keys():\n",
    "    curv = np.array(method_result_dict[i])\n",
    "    name = str(i).split(\".\")[3]\n",
    "    name = name.split(\"'\")[0]\n",
    "    plt.plot(curv[:, 0], np.log(curv[:, 1]), label=name)\n",
    "plt.legend()\n",
    "plt.show()\n",
    "    "
   ]
  },
  {
   "cell_type": "markdown",
   "metadata": {
    "heading_collapsed": true
   },
   "source": [
    "# Measure Time and Python/TF2.4 memory usage (future purpose)"
   ]
  },
  {
   "cell_type": "code",
   "execution_count": null,
   "metadata": {
    "hidden": true
   },
   "outputs": [],
   "source": [
    "import os, sys\n",
    "import contextlib\n",
    "\n",
    "graph, labels = rlg.generate_clusters_graph(200, 5, 0.03, 0.95)\n",
    "methods = [(method_name, method_class) for method_name, method_class in inspect.getmembers(rle) if method_name not in (\"GCN\", \"GNN\", \"__builtins__\")][:12]\n",
    "profiling_results = []\n",
    "for method_name,method_class in methods:\n",
    "    if isTFMethod[method_name]:\n",
    "        initial_mem_usage = tf.config.experimental.get_memory_usage()\n",
    "        print(f\"Profiling {method_name} (TF)\")\n",
    "        with open(os.devnull, \"w\") as f, contextlib.redirect_stdout(f):\n",
    "            profile_method(method_class, graph=graph)\n",
    "        final_memory_usage = tf.config.experimental.get_memory_usage()\n",
    "        mu_diff = final_memory_usage - initial_mem_usage\n",
    "        profiling_results[-1].append((\"TF Memory usage\", \n",
    "                                      mu_diff, \n",
    "                                      format_bytes(mu_diff)))\n",
    "    else:\n",
    "        print(f\"Profiling {method_name} (TF)\")\n",
    "        with open(os.devnull, \"w\") as f, contextlib.redirect_stdout(f):\n",
    "            profile_method(method_class, graph=graph)\n",
    "\n",
    "initial_mem_usage = tf.config.experimental.get_memory_usage()\n",
    "print(f\"Profiling GCN\")\n",
    "with open(os.devnull, \"w\") as f, contextlib.redirect_stdout(f):\n",
    "    profile_method(rle.GCN, graph=graph, Y=labels)\n",
    "final_memory_usage = tf.config.experimental.get_memory_usage()\n",
    "        mu_diff = final_memory_usage - initial_mem_usage\n",
    "        profiling_results[-1].append((\"TF Memory usage\", \n",
    "                                      mu_diff, \n",
    "                                      format_bytes(mu_diff)))\n",
    "        \n",
    "labelsGNN = np.array([np.arange(len(labels)),labels]).T\n",
    "initial_mem_usage = tf.config.experimental.get_memory_usage()\n",
    "print(f\"Profiling GNN\")\n",
    "with open(os.devnull, \"w\") as f, contextlib.redirect_stdout(f):\n",
    "    profile_method(rle.GCN, graph=graph, Y=labelsGNN)\n",
    "final_memory_usage = tf.config.experimental.get_memory_usage()\n",
    "mu_diff = final_memory_usage - initial_mem_usage\n",
    "profiling_results[-1].append((\"TF Memory usage\", \n",
    "                              mu_diff, \n",
    "                              format_bytes(mu_diff)))"
   ]
  },
  {
   "cell_type": "code",
   "execution_count": 89,
   "metadata": {
    "ExecuteTime": {
     "end_time": "2020-12-29T22:29:16.467004Z",
     "start_time": "2020-12-29T22:29:16.456177Z"
    },
    "hidden": true
   },
   "outputs": [
    {
     "data": {
      "text/plain": [
       "[[relegy.embeddings.DNGR.DNGR,\n",
       "  (2928640, 3268608, '48.85s', 48.84972786903381),\n",
       "  'RSS:   2.93MB | VMS:   3.27MB | time:   48.85s'],\n",
       " [relegy.embeddings.DeepWalk.DeepWalk,\n",
       "  (19689472, 19738624, '5.19s', 5.185544013977051),\n",
       "  'RSS:  19.69MB | VMS:  19.74MB | time:    5.19s'],\n",
       " [relegy.embeddings.GraRep.GraRep,\n",
       "  (-18100224, -18120704, '27.65ms', 0.027652263641357422),\n",
       "  'RSS:  -18.1MB | VMS: -18.12MB | time:  27.65ms'],\n",
       " [relegy.embeddings.GraphFactorization.GraphFactorization,\n",
       "  (32768, 0, '1.98s', 1.9834721088409424),\n",
       "  'RSS:  32.77kB | VMS:       0B | time:    1.98s'],\n",
       " [relegy.embeddings.GraphWave.GraphWave,\n",
       "  (-1425408, -1380352, '31.12ms', 0.03112030029296875),\n",
       "  'RSS:  -1.43MB | VMS:  -1.38MB | time:  31.12ms'],\n",
       " [relegy.embeddings.HARP.HARP,\n",
       "  (19386368, 19357696, '16.88s', 16.88197898864746),\n",
       "  'RSS:  19.39MB | VMS:  19.36MB | time:   16.88s'],\n",
       " [relegy.embeddings.HOPE.HOPE,\n",
       "  (-18169856, -18186240, '25.31ms', 0.02531290054321289),\n",
       "  'RSS: -18.17MB | VMS: -18.19MB | time:  25.31ms'],\n",
       " [relegy.embeddings.LINE.LINE,\n",
       "  (32768, 0, '2.39s', 2.3901381492614746),\n",
       "  'RSS:  32.77kB | VMS:       0B | time:    2.39s'],\n",
       " [relegy.embeddings.LaplacianEigenmaps.LaplacianEigenmaps,\n",
       "  (2244608, 9945088, '7.68s', 7.677005767822266),\n",
       "  'RSS:   2.24MB | VMS:   9.95MB | time:    7.68s'],\n",
       " [relegy.embeddings.Node2Vec.Node2Vec,\n",
       "  (1536000, 1536000, '7.01s', 7.014710187911987),\n",
       "  'RSS:   1.54MB | VMS:   1.54MB | time:    7.01s'],\n",
       " [relegy.embeddings.SDNE.SDNE,\n",
       "  (-573440, -581632, '3.08s', 3.0796263217926025),\n",
       "  'RSS: -573.44kB | VMS: -581.63kB | time:    3.08s'],\n",
       " [relegy.embeddings.Struc2Vec.Struc2Vec,\n",
       "  (3923968, 3923968, '3.76min', 225.80833196640015),\n",
       "  'RSS:   3.92MB | VMS:   3.92MB | time:  3.76min'],\n",
       " [relegy.embeddings.GCN.GCN,\n",
       "  (-3932160, -3940352, '2.01s', 2.0126729011535645),\n",
       "  'RSS:  -3.93MB | VMS:  -3.94MB | time:    2.01s'],\n",
       " [relegy.embeddings.GraRep.GraRep,\n",
       "  (8134656, -22818816, '39.46ms', 0.039463043212890625),\n",
       "  'RSS:   8.13MB | VMS: -22.82MB | time:  39.46ms'],\n",
       " [relegy.embeddings.GraRep.GraRep,\n",
       "  (1544192, 921600, '22.84ms', 0.02284097671508789),\n",
       "  'RSS:   1.54MB | VMS:  921.6kB | time:  22.84ms'],\n",
       " [relegy.embeddings.GraRep.GraRep,\n",
       "  (950272, 872448, '26.67ms', 0.0266721248626709),\n",
       "  'RSS: 950.27kB | VMS: 872.45kB | time:  26.67ms'],\n",
       " [relegy.embeddings.GCN.GCN,\n",
       "  (2732032, -675840, '2.52s', 2.5187032222747803),\n",
       "  'RSS:   2.73MB | VMS: -675.84kB | time:    2.52s'],\n",
       " [relegy.embeddings.GCN.GCN,\n",
       "  (503808, 0, '2.59s', 2.591210126876831),\n",
       "  'RSS: 503.81kB | VMS:       0B | time:    2.59s']]"
      ]
     },
     "execution_count": 89,
     "metadata": {},
     "output_type": "execute_result"
    }
   ],
   "source": [
    "profiling_results"
   ]
  }
 ],
 "metadata": {
  "kernelspec": {
   "display_name": "Python 3",
   "language": "python",
   "name": "python3"
  },
  "language_info": {
   "codemirror_mode": {
    "name": "ipython",
    "version": 3
   },
   "file_extension": ".py",
   "mimetype": "text/x-python",
   "name": "python",
   "nbconvert_exporter": "python",
   "pygments_lexer": "ipython3",
   "version": "3.8.3"
  }
 },
 "nbformat": 4,
 "nbformat_minor": 4
}
