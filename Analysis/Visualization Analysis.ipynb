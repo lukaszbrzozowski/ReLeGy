{
 "cells": [
  {
   "cell_type": "markdown",
   "metadata": {},
   "source": [
    "# Comparative analysis description"
   ]
  },
  {
   "cell_type": "markdown",
   "metadata": {},
   "source": [
    "The purpose of the analysis is to verify which of the graph embedding methods implemented in the ReLeGy package are applicable in graph visualization task. We compare whether the clusters of vertices are properly separated and whether the visual graph structure is preserved. The embeddings are visualized with t-SNE and PCA algorithms to allow for a broader perspective."
   ]
  },
  {
   "cell_type": "markdown",
   "metadata": {},
   "source": [
    "# Input data description"
   ]
  },
  {
   "cell_type": "markdown",
   "metadata": {},
   "source": [
    "## Graphs \n",
    "\n",
    "* Barbell graph having two cliques of 20 vertices connected with a path of 5 vertices\n",
    "* A cycle of 40 vertices\n",
    "* A graph consisting of 5 cliques connected by random edges with density equal to 0.002 with 100 vertices in total\n",
    "* A graph consisting of 7 cliques connected by random edges with density equal to 0.03 with 100 vertices in total\n",
    "* A graph consisting of 7 clusters with density 0.8 connected by random edges with density equal to 0.03 with 100 vertices in total\n",
    "\n",
    "## Embedding methods\n",
    "\n",
    "* LaplacianEigenmaps\n",
    "* GraphFactorization\n",
    "* GraRep\n",
    "* HOPE\n",
    "* DeepWalk\n",
    "* Node2Vec\n",
    "* LINE\n",
    "* HARP(DeepWalk)\n",
    "* HARP(Node2Vec)\n",
    "* Struc2Vec\n",
    "* GraphWave\n",
    "\n",
    "The GNN and GCN embedding methods are left out in this comparison, as they require vertices' labels and are not fit for a visualization task.\n",
    "\n",
    "## Embedding dimensions\n",
    "\n",
    "Each graph is embedded with each method three times, so that the resulting matrices have 2, 6, and 20 columns."
   ]
  },
  {
   "cell_type": "markdown",
   "metadata": {},
   "source": [
    "# Computation"
   ]
  },
  {
   "cell_type": "code",
   "execution_count": 1,
   "metadata": {},
   "outputs": [],
   "source": [
    "import relegy.embeddings as rle\n",
    "import relegy.graphs as rlr"
   ]
  },
  {
   "cell_type": "code",
   "execution_count": 15,
   "metadata": {},
   "outputs": [],
   "source": [
    "import networkx as nx\n",
    "import matplotlib.pyplot as plt\n",
    "import numpy as np\n",
    "from sklearn.preprocessing import StandardScaler\n",
    "from sklearn.decomposition import PCA\n",
    "from sklearn.manifold import TSNE\n",
    "import inspect\n",
    "from IPython.display import clear_output\n",
    "from matplotlib.pylab import rcParams\n",
    "from ipywidgets import interact, interactive, fixed, interact_manual\n",
    "import ipywidgets as widgets\n",
    "import sys\n",
    "import pickle\n",
    "import re"
   ]
  },
  {
   "cell_type": "code",
   "execution_count": 55,
   "metadata": {},
   "outputs": [],
   "source": [
    "embeddings = {}\n",
    "for i in range(1, 6):\n",
    "    for j in [2, 6, 20]:\n",
    "        with open(\"G\"+str(i)+\"_results_vis_d\"+str(j)+\".p\", mode=\"rb\") as f:\n",
    "            embeddings[\"G\"+str(i)+\"_\"+\"d\"+str(j)] = pickle.load(f)"
   ]
  },
  {
   "cell_type": "code",
   "execution_count": 39,
   "metadata": {},
   "outputs": [],
   "source": [
    "def get_embedding_methods_iterable():\n",
    "    \"\"\"\n",
    "    Iterates over embedding methods.\n",
    "    \"\"\"\n",
    "    return filter(lambda x: x[0][:2] != \"__\", inspect.getmembers(sys.modules['relegy.embeddings']))"
   ]
  },
  {
   "cell_type": "code",
   "execution_count": 5,
   "metadata": {},
   "outputs": [],
   "source": [
    "#Graph generation\n",
    "np.random.seed(123)\n",
    "G1, labels1 = rlr.generate_graph(\"barbell\", m1=20, m2=5), np.concatenate((np.repeat(1, 19), np.array([0, 2, 3, 4, 3, 2, 0]), np.repeat(1, 19)))\n",
    "G2, labels2 = nx.cycle_graph(40), np.repeat(1, 40)\n",
    "G3, labels3 = rlr.generate_clusters_graph(100, 5, 0.002, 1)\n",
    "G4, labels4 = rlr.generate_clusters_graph(100, 7, 0.03, 1)\n",
    "G5, labels5 = rlr.generate_clusters_graph(100, 7, 0.03, 0.8)"
   ]
  },
  {
   "cell_type": "code",
   "execution_count": 6,
   "metadata": {},
   "outputs": [],
   "source": [
    "labels = [labels1, labels2, labels3, labels4, labels5]"
   ]
  },
  {
   "cell_type": "code",
   "execution_count": 7,
   "metadata": {},
   "outputs": [
    {
     "data": {
      "application/vnd.jupyter.widget-view+json": {
       "model_id": "192edd5dbefa407784598b4404405047",
       "version_major": 2,
       "version_minor": 0
      },
      "text/plain": [
       "interactive(children=(Dropdown(description='Graph: ', options=(('G1', (<networkx.classes.graph.Graph object at…"
      ]
     },
     "metadata": {},
     "output_type": "display_data"
    }
   ],
   "source": [
    "#Graph plotting \n",
    "rcParams[\"figure.figsize\"] = 8, 8\n",
    "def plot_graph(graph):\n",
    "    nx.draw(graph[0], node_color=graph[1])\n",
    "\n",
    "dpdown = widgets.Dropdown(options = [('G1', (G1, labels1))], value=(G1, labels1), description=\"Graph: \")\n",
    "with dpdown.hold_trait_notifications():\n",
    "    dpdown.options=[('G1', (G1, labels1)), \n",
    "                           ('G2', (G2, labels2)), \n",
    "                           ('G3', (G3, labels3)), \n",
    "                           ('G4', (G4, labels4)), \n",
    "                           ('G5', (G5, labels5))]\n",
    "\n",
    "interact(plot_graph, graph = dpdown)\n",
    "plt.show()\n"
   ]
  },
  {
   "cell_type": "code",
   "execution_count": 37,
   "metadata": {},
   "outputs": [],
   "source": [
    "def get_results_from_all_viable_methods(d, graphs, graph_names=None):\n",
    "    results = [None] * len(graphs)\n",
    "    for i, G in enumerate(graphs):\n",
    "        results_dictionary = {}\n",
    "        for name, class_handle in get_embedding_methods_iterable():\n",
    "            info = \"Currently processing \" + str(name) + \", d: \" + str(d)\n",
    "            if graph_names is not None:\n",
    "                info += \", graph: \" + graph_names[i]\n",
    "            if not (name == \"GCN\" or name == \"GNN\"):\n",
    "                if name in [\"GraphWave\", \"HOPE\", \"LINE\"]:\n",
    "                    current_d = d // 2\n",
    "                else:\n",
    "                    current_d = d\n",
    "                print(info)\n",
    "                if not (name == \"HARP\"):\n",
    "                    results_dictionary[name] = class_handle.fast_embed(G, d=current_d)\n",
    "                    clear_output()\n",
    "                else:\n",
    "                    temp_name = \"HARP_Deepwalk\"\n",
    "                    results_dictionary[temp_name] = class_handle.fast_embed(G, d=current_d)\n",
    "                    temp_name = \"HARP_Node2Vec\"\n",
    "                    results_dictionary[temp_name] = class_handle.fast_embed(G, d=current_d, method = \"Node2Vec\")\n",
    "                    clear_output()\n",
    "        results[i] = results_dictionary\n",
    "    return results"
   ]
  },
  {
   "cell_type": "code",
   "execution_count": 11,
   "metadata": {},
   "outputs": [],
   "source": [
    "#embeddings_d2 = get_results_from_all_viable_methods(d=2, graphs=[G1, G2, G3, G4, G5], graph_names=[\"G\"+str(i) for i in range(1, 6)])"
   ]
  },
  {
   "cell_type": "code",
   "execution_count": 27,
   "metadata": {},
   "outputs": [],
   "source": [
    "#embeddings_d6 = get_results_from_all_viable_methods(d=6, graphs=[G1, G2, G3, G4, G5], graph_names=[\"G\"+str(i) for i in range(1, 6)])"
   ]
  },
  {
   "cell_type": "code",
   "execution_count": 40,
   "metadata": {
    "pycharm": {
     "is_executing": true
    }
   },
   "outputs": [],
   "source": [
    "#embeddings_d20 = get_results_from_all_viable_methods(d=20, graphs=[G1, G2, G3, G4, G5], graph_names=[\"G\"+str(i) for i in range(1, 6)])"
   ]
  },
  {
   "cell_type": "code",
   "execution_count": 77,
   "metadata": {},
   "outputs": [],
   "source": [
    "embeddings_d2 = [None] * 5\n",
    "embeddings_d6 = [None] * 5\n",
    "embeddings_d20 = [None] * 5\n",
    "k = 0\n",
    "l = 0\n",
    "m = 0\n",
    "for i in embeddings.keys():\n",
    "    if re.search(\"d2$\", i) is not None:\n",
    "        embeddings_d2[k] = embeddings[i]\n",
    "        k += 1\n",
    "    elif \"d6\" in i:\n",
    "        embeddings_d6[l] = embeddings[i]\n",
    "        l += 1\n",
    "    elif \"d20\" in i:\n",
    "        embeddings_d20[m] = embeddings[i]\n",
    "        m += 1"
   ]
  },
  {
   "cell_type": "code",
   "execution_count": 81,
   "metadata": {
    "scrolled": false
   },
   "outputs": [
    {
     "data": {
      "application/vnd.jupyter.widget-view+json": {
       "model_id": "a86341fab9e74ea5b7d27d5a6183b53e",
       "version_major": 2,
       "version_minor": 0
      },
      "text/plain": [
       "interactive(children=(Dropdown(description='Graph: ', options=(('G1', ({'DNGR': array([[1.8253922e-04, 9.82244…"
      ]
     },
     "metadata": {},
     "output_type": "display_data"
    }
   ],
   "source": [
    "def plot_embeddings(embeddings):\n",
    "    rcParams[\"figure.figsize\"] = 16, 16\n",
    "    fig, axs = plt.subplots(4, 4)\n",
    "    names = list(embeddings[0].keys())\n",
    "    for i in range(len(names)):\n",
    "        ix_x = i // 4\n",
    "        ix_y = i % 4\n",
    "        cur_Z = embeddings[0][names[i]]\n",
    "        if cur_Z.shape[1] != 2:\n",
    "            ss = StandardScaler().fit_transform(cur_Z)\n",
    "            pca_Z = PCA(n_components=2).fit_transform(cur_Z)\n",
    "            cur_Z = pca_Z\n",
    "        axs[ix_x, ix_y].scatter(cur_Z[:, 0], cur_Z[:, 1], c=embeddings[1])\n",
    "        axs[ix_x, ix_y].set_title(names[i])\n",
    "        axs[ix_x, ix_y].set_xticks([])\n",
    "        axs[ix_x, ix_y].set_yticks([])\n",
    "    while(i < 15):\n",
    "        i += 1\n",
    "        ix_x = i // 4\n",
    "        ix_y = i % 4\n",
    "        axs[ix_x, ix_y].axis('off')\n",
    "    plt.show()\n",
    "        \n",
    "dpdown = widgets.Dropdown(options=[('G1', (embeddings_d2[0], labels[0]))],\n",
    "                                    value=(embeddings_d2[0], labels[0]),\n",
    "                                    description=\"Graph: \")\n",
    "with dpdown.hold_trait_notifications():\n",
    "    dpdown.options = [('G1', (embeddings_d2[0], labels[0])), \n",
    "                       ('G2', (embeddings_d2[1], labels[1])), \n",
    "                       ('G3', (embeddings_d2[2], labels[2])), \n",
    "                       ('G4', (embeddings_d2[3], labels[3])), \n",
    "                       ('G5', (embeddings_d2[4], labels[4]))]\n",
    "interact(plot_embeddings, embeddings = dpdown)\n",
    "plt.show()"
   ]
  },
  {
   "cell_type": "code",
   "execution_count": 17,
   "metadata": {
    "scrolled": false
   },
   "outputs": [
    {
     "data": {
      "application/vnd.jupyter.widget-view+json": {
       "model_id": "d140cee4882b449cbc532a13c5448465",
       "version_major": 2,
       "version_minor": 0
      },
      "text/plain": [
       "interactive(children=(Dropdown(description='Graph: ', options=(('G1', ({'DNGR': array([[1.0000000e+00, 9.83646…"
      ]
     },
     "metadata": {},
     "output_type": "display_data"
    }
   ],
   "source": [
    "def plot_embeddings(embeddings):\n",
    "    rcParams[\"figure.figsize\"] = 16, 16\n",
    "    fig, axs = plt.subplots(4, 4)\n",
    "    names = list(embeddings[0].keys())\n",
    "    for i in range(len(names)):\n",
    "        ix_x = i // 4\n",
    "        ix_y = i % 4\n",
    "        cur_Z = embeddings[0][names[i]]\n",
    "        if cur_Z.shape[1] != 2:\n",
    "            ss = StandardScaler().fit_transform(cur_Z)\n",
    "            pca_Z = PCA(n_components=2).fit_transform(cur_Z)\n",
    "            cur_Z = pca_Z\n",
    "        axs[ix_x, ix_y].scatter(cur_Z[:, 0], cur_Z[:, 1], c=embeddings[1])\n",
    "        axs[ix_x, ix_y].set_title(names[i])\n",
    "        axs[ix_x, ix_y].set_xticks([])\n",
    "        axs[ix_x, ix_y].set_yticks([])\n",
    "    while(i < 15):\n",
    "        i += 1\n",
    "        ix_x = i // 4\n",
    "        ix_y = i % 4\n",
    "        axs[ix_x, ix_y].axis('off')\n",
    "    plt.show()\n",
    "        \n",
    "dpdown = widgets.Dropdown(options=[('G1', (embeddings_d6[0], labels[0]))],\n",
    "                                    value=(embeddings_d6[0], labels[0]),\n",
    "                                    description=\"Graph: \")\n",
    "with dpdown.hold_trait_notifications():\n",
    "    dpdown.options = [('G1', (embeddings_d6[0], labels[0])), \n",
    "                       ('G2', (embeddings_d6[1], labels[1])), \n",
    "                       ('G3', (embeddings_d6[2], labels[2])), \n",
    "                       ('G4', (embeddings_d6[3], labels[3])), \n",
    "                       ('G5', (embeddings_d6[4], labels[4]))]\n",
    "interact(plot_embeddings, embeddings = dpdown)\n",
    "plt.show()"
   ]
  },
  {
   "cell_type": "code",
   "execution_count": 92,
   "metadata": {},
   "outputs": [
    {
     "data": {
      "application/vnd.jupyter.widget-view+json": {
       "model_id": "b97c651c518e41fe94b3439e4e4ecc4b",
       "version_major": 2,
       "version_minor": 0
      },
      "text/plain": [
       "interactive(children=(Dropdown(description='Graph: ', options=(('G1', ({'DNGR': array([[4.65160042e-01, 3.4023…"
      ]
     },
     "metadata": {},
     "output_type": "display_data"
    }
   ],
   "source": [
    "def plot_embeddings(embeddings):\n",
    "    rcParams[\"figure.figsize\"] = 16, 16\n",
    "    fig, axs = plt.subplots(4, 4)\n",
    "    names = list(embeddings[0].keys())\n",
    "    for i in range(len(names)):\n",
    "        ix_x = i // 4\n",
    "        ix_y = i % 4\n",
    "        cur_Z = embeddings[0][names[i]]\n",
    "        if cur_Z.shape[1] != 2:\n",
    "            ss = StandardScaler().fit_transform(cur_Z)\n",
    "            pca_Z = TSNE(n_components=2).fit_transform(cur_Z)\n",
    "            cur_Z = pca_Z\n",
    "        axs[ix_x, ix_y].scatter(cur_Z[:, 0], cur_Z[:, 1], c=embeddings[1])\n",
    "        axs[ix_x, ix_y].set_title(names[i])\n",
    "        axs[ix_x, ix_y].set_xticks([])\n",
    "        axs[ix_x, ix_y].set_yticks([])\n",
    "    while(i < 15):\n",
    "        i += 1\n",
    "        ix_x = i // 4\n",
    "        ix_y = i % 4\n",
    "        axs[ix_x, ix_y].axis('off')\n",
    "    plt.show()\n",
    "        \n",
    "dpdown = widgets.Dropdown(options=[('G1', (embeddings_d20[0], labels[0]))],\n",
    "                                    value=(embeddings_d20[0], labels[0]),\n",
    "                                    description=\"Graph: \")\n",
    "with dpdown.hold_trait_notifications():\n",
    "    dpdown.options = [('G1', (embeddings_d20[0], labels[0])), \n",
    "                       ('G2', (embeddings_d20[1], labels[1])), \n",
    "                       ('G3', (embeddings_d20[2], labels[2])), \n",
    "                       ('G4', (embeddings_d20[3], labels[3])), \n",
    "                       ('G5', (embeddings_d20[4], labels[4]))]\n",
    "interact(plot_embeddings, embeddings = dpdown)\n",
    "plt.show()"
   ]
  },
  {
   "cell_type": "code",
   "execution_count": 91,
   "metadata": {},
   "outputs": [
    {
     "data": {
      "text/plain": [
       "({'DNGR': array([[0.8182093 , 0.77744675, 0.11112484, ..., 0.45667663, 0.20318374,\n",
       "          0.8991232 ],\n",
       "         [0.87076795, 0.7079951 , 0.07771802, ..., 0.6241195 , 0.24355948,\n",
       "          0.8392889 ],\n",
       "         [0.8903668 , 0.7702857 , 0.04713255, ..., 0.5705624 , 0.23132947,\n",
       "          0.831133  ],\n",
       "         ...,\n",
       "         [0.31148326, 0.00865889, 0.88679934, ..., 0.4155929 , 0.7713163 ,\n",
       "          0.36114317],\n",
       "         [0.19970727, 0.01016885, 0.8123678 , ..., 0.6256654 , 0.59770036,\n",
       "          0.48113164],\n",
       "         [0.32317346, 0.00772291, 0.8995787 , ..., 0.47268453, 0.7584353 ,\n",
       "          0.40478438]], dtype=float32),\n",
       "  'DeepWalk': array([[-0.16149025,  0.0200223 , -1.0025679 , ..., -0.15187481,\n",
       "           0.5784219 ,  0.02054436],\n",
       "         [ 0.5642022 , -0.22605135, -0.56505793, ..., -0.24931958,\n",
       "          -0.17960708, -0.1989695 ],\n",
       "         [ 0.411328  , -0.3445765 , -0.86157155, ...,  0.09695203,\n",
       "           0.28699073,  0.08179238],\n",
       "         ...,\n",
       "         [-0.08075514,  0.03517565, -0.18151791, ...,  1.5561473 ,\n",
       "          -0.6483144 ,  0.1864276 ],\n",
       "         [ 0.00810773,  0.18893611,  0.17928872, ...,  0.9614407 ,\n",
       "          -0.7367767 , -0.14425802],\n",
       "         [-0.5886451 ,  0.48452   ,  0.21961387, ...,  1.0445267 ,\n",
       "          -0.60505134, -0.03848255]], dtype=float32),\n",
       "  'GraRep': array([[-0.44902432,  0.07255103, -0.2955832 , ..., -0.09879768,\n",
       "           0.23673266, -0.04030524],\n",
       "         [-0.43414006,  0.12509015, -0.26915258, ...,  0.0245366 ,\n",
       "          -0.48669773, -0.11557008],\n",
       "         [-0.4473433 ,  0.00618053, -0.31729677, ..., -0.08791489,\n",
       "           0.20917927,  0.00243237],\n",
       "         ...,\n",
       "         [-0.31414518,  0.25846013, -0.19750391, ...,  0.3284664 ,\n",
       "          -0.348971  , -0.42398375],\n",
       "         [-0.38375333,  0.19669649, -0.15129541, ..., -0.35737807,\n",
       "           0.14594905,  0.07142156],\n",
       "         [-0.36828452,  0.20648772, -0.12160055, ...,  0.44483796,\n",
       "           0.13849232,  0.00983184]], dtype=float32),\n",
       "  'GraphFactorization': array([[ 0.08292588, -0.082014  ,  0.12709904, ...,  0.251151  ,\n",
       "           0.07764146,  0.30182114],\n",
       "         [ 0.08541347, -0.06936329,  0.14094791, ...,  0.19643179,\n",
       "           0.08877586,  0.28996426],\n",
       "         [ 0.05195002, -0.06648517,  0.11648718, ...,  0.21779513,\n",
       "           0.10128553,  0.29131746],\n",
       "         ...,\n",
       "         [ 0.03534111, -0.01169486,  0.19084774, ...,  0.19619328,\n",
       "          -0.09152226,  0.34996164],\n",
       "         [ 0.05780753, -0.01199431,  0.1838511 , ...,  0.21643905,\n",
       "          -0.0150966 ,  0.31901547],\n",
       "         [ 0.04903274, -0.0390356 ,  0.1482786 , ...,  0.22672239,\n",
       "          -0.01084762,  0.35879725]], dtype=float32),\n",
       "  'GraphWave': array([[1.        , 0.        , 0.99999958, ..., 0.00888873, 0.99994236,\n",
       "          0.00999976],\n",
       "         [1.        , 0.        , 0.99999958, ..., 0.00888871, 0.99993992,\n",
       "          0.00999974],\n",
       "         [1.        , 0.        , 0.99999958, ..., 0.0088887 , 0.99993956,\n",
       "          0.00999972],\n",
       "         ...,\n",
       "         [1.        , 0.        , 0.99999988, ..., 0.00888872, 0.99994111,\n",
       "          0.00999975],\n",
       "         [1.        , 0.        , 0.99999982, ..., 0.00888876, 0.9999454 ,\n",
       "          0.00999981],\n",
       "         [1.        , 0.        , 0.99999988, ..., 0.00888874, 0.99994296,\n",
       "          0.00999978]]),\n",
       "  'HARP_Deepwalk': array([[ 0.20658375, -0.1454444 ,  0.36348236, ..., -0.13712187,\n",
       "          -0.32409206,  0.11062071],\n",
       "         [ 0.5598756 ,  0.0435828 ,  0.34579554, ..., -0.19149135,\n",
       "          -0.5267108 ,  0.44653517],\n",
       "         [ 0.7999467 , -0.16095673, -0.31804892, ..., -0.06843176,\n",
       "           0.0195932 ,  0.54084176],\n",
       "         ...,\n",
       "         [ 0.45001042,  0.00893607,  0.5418684 , ..., -0.5408349 ,\n",
       "          -0.23716559, -0.87448925],\n",
       "         [ 0.24555384, -0.15049574,  0.2602121 , ..., -0.52508414,\n",
       "          -0.0458919 , -0.03331993],\n",
       "         [ 0.530969  ,  0.03844716,  0.5391334 , ..., -0.37130183,\n",
       "          -0.09872475, -0.66404194]], dtype=float32),\n",
       "  'HARP_Node2Vec': array([[ 0.12016311, -0.11239962,  0.07823982, ...,  0.46160778,\n",
       "          -0.42686254, -0.4471274 ],\n",
       "         [ 0.25716335, -0.3426246 ,  0.5238983 , ...,  0.66126424,\n",
       "          -0.69541794, -0.255774  ],\n",
       "         [ 0.18961604,  0.14525618,  0.11080484, ...,  0.41450474,\n",
       "          -0.34627503, -0.19210736],\n",
       "         ...,\n",
       "         [-0.60466826, -0.29309964, -0.2454742 , ..., -1.0481762 ,\n",
       "           0.40600014, -0.45652568],\n",
       "         [-0.24959978, -0.04653821,  0.4868232 , ..., -0.8611792 ,\n",
       "           0.27847832, -0.33049577],\n",
       "         [ 0.05548733,  0.17774422,  0.4860124 , ..., -0.54417205,\n",
       "          -0.022366  , -0.01572817]], dtype=float32),\n",
       "  'HOPE': array([[ 6.85166791e-02, -4.91563231e-01, -4.35730703e-02, ...,\n",
       "          -1.36552602e-02, -2.93103489e-03, -1.78120993e-02],\n",
       "         [ 5.51159903e-02, -4.84379381e-01, -3.32647823e-02, ...,\n",
       "           1.23671927e-01,  1.20183036e-01,  1.10409617e-01],\n",
       "         [ 5.05949520e-02, -4.84216869e-01, -3.19916420e-02, ...,\n",
       "           8.79203342e-03,  6.81414129e-03, -1.41238617e-02],\n",
       "         ...,\n",
       "         [-6.59738362e-01,  7.15657175e-02,  1.91728584e-02, ...,\n",
       "          -2.12722551e-02, -4.91711572e-02, -9.18462053e-02],\n",
       "         [-6.48169935e-01,  6.20720303e-03, -6.43230528e-02, ...,\n",
       "          -5.68911992e-02,  1.81937218e-02,  5.76289222e-02],\n",
       "         [-6.71054423e-01,  4.39376906e-02,  2.55225357e-02, ...,\n",
       "          -2.39832923e-02,  5.25949174e-04, -3.42550222e-03]], dtype=float32),\n",
       "  'LINE': array([[0.46747264, 0.98372465, 0.78377247, ..., 1.2227874 , 0.3296791 ,\n",
       "          1.343799  ],\n",
       "         [0.9640602 , 0.8353567 , 1.2258028 , ..., 1.0657803 , 0.4973414 ,\n",
       "          1.3807361 ],\n",
       "         [0.8302317 , 0.6681329 , 1.0020741 , ..., 0.79080564, 0.98264724,\n",
       "          1.1249168 ],\n",
       "         ...,\n",
       "         [0.947552  , 0.8226925 , 0.8527016 , ..., 0.7021319 , 0.6548593 ,\n",
       "          1.2466078 ],\n",
       "         [1.0380225 , 1.3179091 , 0.7894032 , ..., 0.86218524, 0.88091826,\n",
       "          0.8994119 ],\n",
       "         [0.6466477 , 0.43489236, 1.2045245 , ..., 0.46128297, 0.5303784 ,\n",
       "          1.2055236 ]], dtype=float32),\n",
       "  'LaplacianEigenmaps': array([[ 0.02980512,  0.00761145,  0.00510976, ...,  0.01019486,\n",
       "           0.01444197, -0.00244145],\n",
       "         [-0.00630473, -0.05026047, -0.0383643 , ..., -0.02807553,\n",
       "          -0.03266408, -0.04556636],\n",
       "         [-0.00106046, -0.05782974, -0.02725434, ..., -0.0205139 ,\n",
       "          -0.0232552 , -0.03904011],\n",
       "         ...,\n",
       "         [-0.00585109, -0.03027455, -0.03879791, ..., -0.04463245,\n",
       "          -0.03489469, -0.03970665],\n",
       "         [ 0.0094319 ,  0.01354618,  0.00508382, ...,  0.02458256,\n",
       "           0.0120511 ,  0.01858259],\n",
       "         [ 0.00317782,  0.01526418,  0.00326731, ...,  0.01493174,\n",
       "          -0.01811436,  0.01360624]]),\n",
       "  'Node2Vec': array([[-0.53702974, -0.30037257, -0.33828962, ...,  0.621638  ,\n",
       "           0.02209939, -0.38662353],\n",
       "         [ 0.3306212 , -0.43245095, -0.3297361 , ...,  0.1098925 ,\n",
       "          -0.9873029 , -0.5545397 ],\n",
       "         [-1.6184113 ,  0.8551563 , -0.24788807, ..., -0.05341928,\n",
       "          -0.38997495, -0.6926081 ],\n",
       "         ...,\n",
       "         [ 0.415661  , -0.5103288 , -0.50261223, ..., -0.8873954 ,\n",
       "          -0.5626662 , -0.95962113],\n",
       "         [ 0.18702637,  0.68913704,  0.16779615, ..., -0.37323177,\n",
       "          -0.1832335 , -1.470321  ],\n",
       "         [ 0.6412307 , -0.67924076,  0.5148744 , ..., -0.42033467,\n",
       "          -0.72809255, -1.0361198 ]], dtype=float32),\n",
       "  'SDNE': array([[4.17703205e-07, 1.29150376e-05, 2.47552962e-05, ...,\n",
       "          2.12198320e-05, 3.65171991e-06, 9.45379652e-05],\n",
       "         [2.65419089e-06, 8.68582138e-05, 1.10979090e-04, ...,\n",
       "          4.17721567e-05, 1.51506165e-05, 4.78893518e-04],\n",
       "         [2.43461909e-06, 1.51336193e-04, 4.32955567e-05, ...,\n",
       "          6.17644546e-05, 1.40452757e-05, 5.75870275e-04],\n",
       "         ...,\n",
       "         [6.52738208e-06, 2.56354034e-01, 8.93072283e-05, ...,\n",
       "          1.14824972e-04, 1.92142470e-05, 1.30433148e-06],\n",
       "         [4.21643051e-07, 2.62586564e-01, 2.49999011e-05, ...,\n",
       "          2.41361995e-05, 2.28810995e-06, 2.15950422e-07],\n",
       "         [2.97704082e-06, 2.57935464e-01, 2.87906041e-05, ...,\n",
       "          4.33524910e-05, 9.09051323e-06, 5.85398993e-07]], dtype=float32),\n",
       "  'Struc2Vec': array([[ 0.00000000e+00, -2.16880962e-01,  2.03169599e-01, ...,\n",
       "          -1.48609757e-01, -3.72229964e-02,  2.17622146e-01],\n",
       "         [ 1.00000000e+00, -1.81675211e-01, -3.40580754e-02, ...,\n",
       "           2.76327491e-01,  2.33235955e-01,  5.92187643e-01],\n",
       "         [ 2.00000000e+00, -1.70878142e-01, -1.74596757e-02, ...,\n",
       "          -2.31773660e-01, -3.03494811e-01,  1.25086397e-01],\n",
       "         ...,\n",
       "         [ 9.70000000e+01,  3.16561252e-01,  2.46773735e-01, ...,\n",
       "          -8.11786205e-02,  3.87600809e-01,  2.74390876e-01],\n",
       "         [ 9.80000000e+01,  1.64065883e-01, -2.55866498e-01, ...,\n",
       "          -1.08331487e-01, -3.24465990e-01, -4.99902591e-02],\n",
       "         [ 9.90000000e+01,  1.54014751e-02,  1.10506728e-01, ...,\n",
       "           3.87693465e-01, -3.66159439e-01,  2.32320279e-01]])},\n",
       " array([0, 0, 0, 0, 0, 0, 0, 0, 0, 0, 0, 0, 0, 0, 1, 1, 1, 1, 1, 1, 1, 1,\n",
       "        1, 1, 1, 1, 1, 1, 2, 2, 2, 2, 2, 2, 2, 2, 2, 2, 2, 2, 2, 2, 2, 2,\n",
       "        2, 2, 3, 3, 3, 3, 3, 3, 3, 3, 3, 4, 4, 4, 4, 4, 4, 4, 4, 4, 4, 4,\n",
       "        4, 4, 4, 4, 5, 5, 5, 5, 5, 5, 5, 5, 5, 5, 5, 5, 5, 5, 5, 5, 5, 6,\n",
       "        6, 6, 6, 6, 6, 6, 6, 6, 6, 6, 6, 6]))"
      ]
     },
     "execution_count": 91,
     "metadata": {},
     "output_type": "execute_result"
    }
   ],
   "source": [
    "(embeddings_d20[3], labels[3])"
   ]
  }
 ],
 "metadata": {
  "kernelspec": {
   "display_name": "Python 3",
   "language": "python",
   "name": "python3"
  },
  "language_info": {
   "codemirror_mode": {
    "name": "ipython",
    "version": 3
   },
   "file_extension": ".py",
   "mimetype": "text/x-python",
   "name": "python",
   "nbconvert_exporter": "python",
   "pygments_lexer": "ipython3",
   "version": "3.8.3"
  }
 },
 "nbformat": 4,
 "nbformat_minor": 4
}
